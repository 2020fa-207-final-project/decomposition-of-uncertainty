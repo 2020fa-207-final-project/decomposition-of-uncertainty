{
 "cells": [
  {
   "cell_type": "markdown",
   "metadata": {},
   "source": [
    "### Heteroskedastic noise BNN_LV with PYMC3\n",
    "Using NUTS in pymc3 to sample from posterior of BNN_LV\n",
    "\n",
    "Samples saved out: `saved_samples/hsc_samples_pymc3.npy`"
   ]
  },
  {
   "cell_type": "code",
   "execution_count": 1,
   "metadata": {
    "id": "qDOZPhauSwLP"
   },
   "outputs": [],
   "source": [
    "from autograd import numpy as np\n",
    "from autograd import grad\n",
    "from autograd.misc.optimizers import adam, sgd\n",
    "from autograd import scipy as sp\n",
    "import pandas as pd\n",
    "import numpy\n",
    "import matplotlib.pyplot as plt\n",
    "import sys\n",
    "import wandb\n",
    "import pymc3 as pm\n",
    "import theano.tensor as tt\n",
    "from IPython.core.debugger import set_trace\n",
    "%matplotlib inline"
   ]
  },
  {
   "cell_type": "code",
   "execution_count": 2,
   "metadata": {},
   "outputs": [],
   "source": [
    "%load_ext autoreload\n",
    "%autoreload 2\n",
    "\n",
    "import sys\n",
    "sys.path.append('..')\n",
    "from utils.data_gen import sample_gaussian_mixture, generate_regression_outputs\n",
    "from utils.BNN_pymc3 import BNN_LV as BNN_LV_pymc3\n",
    "from utils.custom_callbacks_pymc3 import plot95ci, wb_scatter, build_wb_callback"
   ]
  },
  {
   "cell_type": "markdown",
   "metadata": {
    "id": "2UMsthhAgjAr"
   },
   "source": [
    "# Heteroskedastic Noise"
   ]
  },
  {
   "cell_type": "markdown",
   "metadata": {},
   "source": [
    "### Generate data"
   ]
  },
  {
   "cell_type": "code",
   "execution_count": 3,
   "metadata": {
    "id": "AP-gjOkAeG03"
   },
   "outputs": [],
   "source": [
    "y_hsc, X_hsc = generate_regression_outputs(type='hsc')"
   ]
  },
  {
   "cell_type": "markdown",
   "metadata": {},
   "source": [
    "### Setup BNN_LV architecture and perform MLE fit"
   ]
  },
  {
   "cell_type": "code",
   "execution_count": 4,
   "metadata": {
    "colab": {
     "base_uri": "https://localhost:8080/"
    },
    "executionInfo": {
     "elapsed": 6884,
     "status": "ok",
     "timestamp": 1607803180134,
     "user": {
      "displayName": "Gabriel Pestre",
      "photoUrl": "https://lh3.googleusercontent.com/a-/AOh14GiE3b4p_EIBDdrmgHxkG3ah-_ubWSRfuskKMdaE=s64",
      "userId": "17117164839647084315"
     },
     "user_tz": 300
    },
    "id": "Dr07un6oeJWW",
    "outputId": "0d59b9e9-d436-440f-c17e-fbeda795a7a9"
   },
   "outputs": [
    {
     "name": "stdout",
     "output_type": "stream",
     "text": [
      "Iteration 0 lower bound 92.4784640788641; gradient mag: 671.8176600930491\n",
      "Iteration 500 lower bound 3.505640121636584; gradient mag: 1.1185112675381683\n",
      "Iteration 1000 lower bound 3.447198800477059; gradient mag: 1.6887614092790066\n",
      "Iteration 1500 lower bound 3.37164983595188; gradient mag: 0.15951352595274332\n",
      "Iteration 2000 lower bound 3.3479439400526547; gradient mag: 0.24431668435760323\n",
      "Iteration 2500 lower bound 3.3331093571379666; gradient mag: 1.0877975215482003\n",
      "Iteration 3000 lower bound 3.331978582796932; gradient mag: 10.058986608118829\n",
      "Iteration 3500 lower bound 3.3215986876873687; gradient mag: 11.004445628341177\n",
      "Iteration 4000 lower bound 3.2965579687776856; gradient mag: 4.238730121804224\n",
      "Iteration 4500 lower bound 3.3641939245027364; gradient mag: 26.24332582493811\n"
     ]
    }
   ],
   "source": [
    "# Parameters\n",
    "gamma = 1\n",
    "sigma = 1\n",
    "\n",
    "architecture = {'input_n':1, \n",
    "             'output_n':1, \n",
    "             'hidden_layers':[20,20],\n",
    "             'biases' : [1,1,1],\n",
    "             'activations' : ['relu', 'relu', 'linear'],\n",
    "             'gamma':[gamma],\n",
    "             'sigma':[sigma]}\n",
    "bnn_lv = BNN_LV_pymc3(architecture=architecture)\n",
    "\n",
    "bnn_lv.fit(X_hsc, y_hsc, step_size=0.01, max_iteration=5000, check_point=500, regularization_coef=None)"
   ]
  },
  {
   "cell_type": "code",
   "execution_count": 5,
   "metadata": {
    "colab": {
     "base_uri": "https://localhost:8080/",
     "height": 265
    },
    "executionInfo": {
     "elapsed": 532,
     "status": "ok",
     "timestamp": 1607803188601,
     "user": {
      "displayName": "Gabriel Pestre",
      "photoUrl": "https://lh3.googleusercontent.com/a-/AOh14GiE3b4p_EIBDdrmgHxkG3ah-_ubWSRfuskKMdaE=s64",
      "userId": "17117164839647084315"
     },
     "user_tz": 300
    },
    "id": "NzgTjre2-6Te",
    "outputId": "35238423-aec6-43f3-db8f-72aa1d57ea7a"
   },
   "outputs": [
    {
     "data": {
      "image/png": "[encoded data removed]",
      "text/plain": [
       "<Figure size 432x288 with 1 Axes>"
      ]
     },
     "metadata": {
      "needs_background": "light"
     },
     "output_type": "display_data"
    }
   ],
   "source": [
    "x_test = np.linspace(min(X_hsc), max(X_hsc), 100).reshape((1, -1))\n",
    "\n",
    "#predict on the test x-values\n",
    "y_test_pred = bnn_lv.forward(x_test.reshape(100,1))\n",
    "\n",
    "#visualize the function learned by the neural network\n",
    "plt.scatter(X_hsc.flatten(), y_hsc.flatten(), color='black', label='data')\n",
    "plt.plot(x_test.flatten(), y_test_pred.flatten(), color='red', label='learned neural network function')\n",
    "plt.legend(loc='best')\n",
    "plt.show()"
   ]
  },
  {
   "cell_type": "markdown",
   "metadata": {},
   "source": [
    "### Prepare parameters for pymc3 sampling"
   ]
  },
  {
   "cell_type": "code",
   "execution_count": 7,
   "metadata": {
    "colab": {
     "base_uri": "https://localhost:8080/",
     "height": 1000,
     "referenced_widgets": [
      "1cb0f152b809412ea9bf42bd8f1e14ce",
      "43afe21f8db34524bfcf6b7b71959261",
      "cbd0cd01dda041d59118207c147d7c3e",
      "bb3cef85ce4646bdb447b2e5ce658ee4",
      "d80e51a421b4407095e95ba1a30d0ec0",
      "48f8a78b6f0844e5ac0d21f27a9f3c35",
      "96a893ffeb724966a493525a122ef265",
      "44a0a1426da14a919bb7c8169c37aef5"
     ]
    },
    "executionInfo": {
     "elapsed": 9894,
     "status": "ok",
     "timestamp": 1607806253813,
     "user": {
      "displayName": "Gabriel Pestre",
      "photoUrl": "https://lh3.googleusercontent.com/a-/AOh14GiE3b4p_EIBDdrmgHxkG3ah-_ubWSRfuskKMdaE=s64",
      "userId": "17117164839647084315"
     },
     "user_tz": 300
    },
    "id": "4MWtjahSfuVq",
    "outputId": "346fc68c-cfee-4cd8-cfae-36ef79cc7016"
   },
   "outputs": [],
   "source": [
    "# variable parameters\n",
    "p_mu = 0\n",
    "p_sigma = 5\n",
    "l_sigma = 0.25\n",
    "lv_gamma = 1\n",
    "\n",
    "# pymc3 NUTS parameters\n",
    "my_tune = 2000\n",
    "my_draws = 1500\n",
    "my_target_accept = 0.9\n",
    "my_max_treedepth = 12\n",
    "\n",
    "\n",
    "nn = bnn_lv\n",
    "X_test = np.linspace(min(X_hsc), max(X_hsc), 100).reshape((1, -1))\n",
    "\n",
    "# Initialize a W&B run:\n",
    "wandb.init(\n",
    "    entity    = 'gpestre',  # Don't change this.\n",
    "    project   = 'am207',  # Don't change this.\n",
    "    group     = 'pymc3_hsc',\n",
    "    name      = 'hsc_attempt',\n",
    "    notes     = 'increasing target accept and maxtreedepth',\n",
    "    config    = {\n",
    "        # Manually archive info about network and priors.\n",
    "        'architecture' : architecture,\n",
    "        'p_mu' : p_mu,\n",
    "        'p_sigma' : p_sigma,\n",
    "        'l_sigma' : l_sigma,\n",
    "        'lv_gamma' : lv_gamma,\n",
    "        'tune' : my_tune,\n",
    "        'draws' : my_draws,\n",
    "        'max_treedepth': my_max_treedepth,\n",
    "        'target_accept': my_target_accept,\n",
    "    },\n",
    ")\n",
    "\n",
    "wb_callback = build_wb_callback(nn=bnn_lv, X=X_hsc, iters_log=50, iters_plot=250)"
   ]
  },
  {
   "cell_type": "markdown",
   "metadata": {},
   "source": [
    "### Run pymc3"
   ]
  },
  {
   "cell_type": "code",
   "execution_count": null,
   "metadata": {},
   "outputs": [],
   "source": [
    "with pm.Model() as pm_model:\n",
    "    \n",
    "    # prior on w (same shape as MLE)\n",
    "    w_prior = pm.Normal('w', mu=p_mu, sigma=p_sigma, shape=bnn_lv.weights.shape) \n",
    "    \n",
    "    # Latent variable prior (same shape as number of datapoints)\n",
    "    lv_prior = pm.Normal('z', mu=0, sigma=lv_gamma, shape=(X_hsc.shape[0],1))\n",
    "        \n",
    "    # Y with X,LV\n",
    "    y = pm.Normal('y', mu = bnn_lv.forward(X = X_hsc, input_noise = lv_prior, weights=w_prior),\n",
    "                       sigma = l_sigma,\n",
    "                       observed = y_hsc)\n",
    "    \n",
    "    # NUTS sampling\n",
    "    trace = pm.sample(tune=my_tune, draws=my_draws, start = {'w': bnn_lv.weights},\n",
    "                      target_accept = my_target_accept, max_treedepth = my_max_treedepth,\n",
    "                      callback=wb_callback)"
   ]
  },
  {
   "cell_type": "code",
   "execution_count": null,
   "metadata": {},
   "outputs": [],
   "source": [
    "wb_scatter(nn=nn, X=X_test, trace_w=trace['w'])\n",
    "\n",
    "wandb.finish()"
   ]
  },
  {
   "cell_type": "markdown",
   "metadata": {},
   "source": [
    "### Complete sampling and save/load samples obtained"
   ]
  },
  {
   "cell_type": "code",
   "execution_count": 8,
   "metadata": {},
   "outputs": [],
   "source": [
    "# 6 hrs\n",
    "# np.save('saved_samples/hsc_samples_pymc3.npy', trace['w'])\n",
    "posterior_samples_pymc3_hsc = np.load('saved_samples/hsc_samples_pymc3.npy')"
   ]
  },
  {
   "cell_type": "code",
   "execution_count": 9,
   "metadata": {},
   "outputs": [
    {
     "data": {
      "text/plain": [
       "(6000, 1, 501)"
      ]
     },
     "execution_count": 9,
     "metadata": {},
     "output_type": "execute_result"
    }
   ],
   "source": [
    "posterior_samples_pymc3_hsc.shape"
   ]
  }
 ],
 "metadata": {
  "colab": {
   "collapsed_sections": [
    "A1JTET-pne2b",
    "cxNDEzREFRfO"
   ],
   "name": "bnn_lv_updated.ipynb",
   "provenance": []
  },
  "kernelspec": {
   "display_name": "Python 3",
   "language": "python",
   "name": "python3"
  },
  "language_info": {
   "codemirror_mode": {
    "name": "ipython",
    "version": 3
   },
   "file_extension": ".py",
   "mimetype": "text/x-python",
   "name": "python",
   "nbconvert_exporter": "python",
   "pygments_lexer": "ipython3",
   "version": "3.7.8"
  },
  "widgets": {
   "application/vnd.jupyter.widget-state+json": {
    "1cb0f152b809412ea9bf42bd8f1e14ce": {
     "model_module": "@jupyter-widgets/controls",
     "model_name": "VBoxModel",
     "state": {
      "_dom_classes": [],
      "_model_module": "@jupyter-widgets/controls",
      "_model_module_version": "1.5.0",
      "_model_name": "VBoxModel",
      "_view_count": null,
      "_view_module": "@jupyter-widgets/controls",
      "_view_module_version": "1.5.0",
      "_view_name": "VBoxView",
      "box_style": "",
      "children": [
       "IPY_MODEL_cbd0cd01dda041d59118207c147d7c3e",
       "IPY_MODEL_bb3cef85ce4646bdb447b2e5ce658ee4"
      ],
      "layout": "IPY_MODEL_43afe21f8db34524bfcf6b7b71959261"
     }
    },
    "43afe21f8db34524bfcf6b7b71959261": {
     "model_module": "@jupyter-widgets/base",
     "model_name": "LayoutModel",
     "state": {
      "_model_module": "@jupyter-widgets/base",
      "_model_module_version": "1.2.0",
      "_model_name": "LayoutModel",
      "_view_count": null,
      "_view_module": "@jupyter-widgets/base",
      "_view_module_version": "1.2.0",
      "_view_name": "LayoutView",
      "align_content": null,
      "align_items": null,
      "align_self": null,
      "border": null,
      "bottom": null,
      "display": null,
      "flex": null,
      "flex_flow": null,
      "grid_area": null,
      "grid_auto_columns": null,
      "grid_auto_flow": null,
      "grid_auto_rows": null,
      "grid_column": null,
      "grid_gap": null,
      "grid_row": null,
      "grid_template_areas": null,
      "grid_template_columns": null,
      "grid_template_rows": null,
      "height": null,
      "justify_content": null,
      "justify_items": null,
      "left": null,
      "margin": null,
      "max_height": null,
      "max_width": null,
      "min_height": null,
      "min_width": null,
      "object_fit": null,
      "object_position": null,
      "order": null,
      "overflow": null,
      "overflow_x": null,
      "overflow_y": null,
      "padding": null,
      "right": null,
      "top": null,
      "visibility": null,
      "width": null
     }
    },
    "44a0a1426da14a919bb7c8169c37aef5": {
     "model_module": "@jupyter-widgets/base",
     "model_name": "LayoutModel",
     "state": {
      "_model_module": "@jupyter-widgets/base",
      "_model_module_version": "1.2.0",
      "_model_name": "LayoutModel",
      "_view_count": null,
      "_view_module": "@jupyter-widgets/base",
      "_view_module_version": "1.2.0",
      "_view_name": "LayoutView",
      "align_content": null,
      "align_items": null,
      "align_self": null,
      "border": null,
      "bottom": null,
      "display": null,
      "flex": null,
      "flex_flow": null,
      "grid_area": null,
      "grid_auto_columns": null,
      "grid_auto_flow": null,
      "grid_auto_rows": null,
      "grid_column": null,
      "grid_gap": null,
      "grid_row": null,
      "grid_template_areas": null,
      "grid_template_columns": null,
      "grid_template_rows": null,
      "height": null,
      "justify_content": null,
      "justify_items": null,
      "left": null,
      "margin": null,
      "max_height": null,
      "max_width": null,
      "min_height": null,
      "min_width": null,
      "object_fit": null,
      "object_position": null,
      "order": null,
      "overflow": null,
      "overflow_x": null,
      "overflow_y": null,
      "padding": null,
      "right": null,
      "top": null,
      "visibility": null,
      "width": null
     }
    },
    "48f8a78b6f0844e5ac0d21f27a9f3c35": {
     "model_module": "@jupyter-widgets/base",
     "model_name": "LayoutModel",
     "state": {
      "_model_module": "@jupyter-widgets/base",
      "_model_module_version": "1.2.0",
      "_model_name": "LayoutModel",
      "_view_count": null,
      "_view_module": "@jupyter-widgets/base",
      "_view_module_version": "1.2.0",
      "_view_name": "LayoutView",
      "align_content": null,
      "align_items": null,
      "align_self": null,
      "border": null,
      "bottom": null,
      "display": null,
      "flex": null,
      "flex_flow": null,
      "grid_area": null,
      "grid_auto_columns": null,
      "grid_auto_flow": null,
      "grid_auto_rows": null,
      "grid_column": null,
      "grid_gap": null,
      "grid_row": null,
      "grid_template_areas": null,
      "grid_template_columns": null,
      "grid_template_rows": null,
      "height": null,
      "justify_content": null,
      "justify_items": null,
      "left": null,
      "margin": null,
      "max_height": null,
      "max_width": null,
      "min_height": null,
      "min_width": null,
      "object_fit": null,
      "object_position": null,
      "order": null,
      "overflow": null,
      "overflow_x": null,
      "overflow_y": null,
      "padding": null,
      "right": null,
      "top": null,
      "visibility": null,
      "width": null
     }
    },
    "96a893ffeb724966a493525a122ef265": {
     "model_module": "@jupyter-widgets/controls",
     "model_name": "ProgressStyleModel",
     "state": {
      "_model_module": "@jupyter-widgets/controls",
      "_model_module_version": "1.5.0",
      "_model_name": "ProgressStyleModel",
      "_view_count": null,
      "_view_module": "@jupyter-widgets/base",
      "_view_module_version": "1.2.0",
      "_view_name": "StyleView",
      "bar_color": null,
      "description_width": ""
     }
    },
    "bb3cef85ce4646bdb447b2e5ce658ee4": {
     "model_module": "@jupyter-widgets/controls",
     "model_name": "FloatProgressModel",
     "state": {
      "_dom_classes": [],
      "_model_module": "@jupyter-widgets/controls",
      "_model_module_version": "1.5.0",
      "_model_name": "FloatProgressModel",
      "_view_count": null,
      "_view_module": "@jupyter-widgets/controls",
      "_view_module_version": "1.5.0",
      "_view_name": "ProgressView",
      "bar_style": "",
      "description": "",
      "description_tooltip": null,
      "layout": "IPY_MODEL_44a0a1426da14a919bb7c8169c37aef5",
      "max": 1,
      "min": 0,
      "orientation": "horizontal",
      "style": "IPY_MODEL_96a893ffeb724966a493525a122ef265",
      "value": 1
     }
    },
    "cbd0cd01dda041d59118207c147d7c3e": {
     "model_module": "@jupyter-widgets/controls",
     "model_name": "LabelModel",
     "state": {
      "_dom_classes": [],
      "_model_module": "@jupyter-widgets/controls",
      "_model_module_version": "1.5.0",
      "_model_name": "LabelModel",
      "_view_count": null,
      "_view_module": "@jupyter-widgets/controls",
      "_view_module_version": "1.5.0",
      "_view_name": "LabelView",
      "description": "",
      "description_tooltip": null,
      "layout": "IPY_MODEL_48f8a78b6f0844e5ac0d21f27a9f3c35",
      "placeholder": "​",
      "style": "IPY_MODEL_d80e51a421b4407095e95ba1a30d0ec0",
      "value": " 0.14MB of 0.14MB uploaded (0.00MB deduped)\r"
     }
    },
    "d80e51a421b4407095e95ba1a30d0ec0": {
     "model_module": "@jupyter-widgets/controls",
     "model_name": "DescriptionStyleModel",
     "state": {
      "_model_module": "@jupyter-widgets/controls",
      "_model_module_version": "1.5.0",
      "_model_name": "DescriptionStyleModel",
      "_view_count": null,
      "_view_module": "@jupyter-widgets/base",
      "_view_module_version": "1.2.0",
      "_view_name": "StyleView",
      "description_width": ""
     }
    }
   }
  }
 },
 "nbformat": 4,
 "nbformat_minor": 4
}
