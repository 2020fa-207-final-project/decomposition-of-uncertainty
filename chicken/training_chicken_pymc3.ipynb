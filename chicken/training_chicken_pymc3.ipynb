{
 "cells": [
  {
   "cell_type": "markdown",
   "metadata": {},
   "source": [
    "### Wet-Chicken problem BNN_LV with PYMC3\n",
    "Using NUTS in pymc3 to sample from posterior of BNN_LV\n",
    "\n",
    "Samples saved out: `saved_samples/chicken_samples_pymc3.npy`"
   ]
  },
  {
   "cell_type": "code",
   "execution_count": 1,
   "metadata": {},
   "outputs": [],
   "source": [
    "from autograd import numpy as np\n",
    "from autograd import grad\n",
    "from autograd.misc.optimizers import adam, sgd\n",
    "from autograd import scipy as sp\n",
    "import pandas as pd\n",
    "import numpy\n",
    "import matplotlib.pyplot as plt\n",
    "import sys\n",
    "import pymc3 as pm\n",
    "import theano.tensor as tt\n",
    "from IPython.core.debugger import set_trace\n",
    "%matplotlib inline"
   ]
  },
  {
   "cell_type": "code",
   "execution_count": 2,
   "metadata": {},
   "outputs": [],
   "source": [
    "%load_ext autoreload\n",
    "%autoreload 2\n",
    "\n",
    "import sys\n",
    "sys.path.append('..')\n",
    "from utils.data_gen import sample_gaussian_mixture, generate_regression_outputs\n",
    "from utils.BNN_pymc3 import BNN_LV as BNN_LV_pymc3\n",
    "from utils.custom_callbacks_pymc3 import plot95ci, wb_scatter, build_wb_callback"
   ]
  },
  {
   "cell_type": "markdown",
   "metadata": {},
   "source": [
    "## Wet Chicken"
   ]
  },
  {
   "cell_type": "code",
   "execution_count": 3,
   "metadata": {},
   "outputs": [],
   "source": [
    "from utils.games import WetChicken2D"
   ]
  },
  {
   "cell_type": "markdown",
   "metadata": {},
   "source": [
    "### Set up simulation and extract data"
   ]
  },
  {
   "cell_type": "code",
   "execution_count": 4,
   "metadata": {},
   "outputs": [
    {
     "name": "stdout",
     "output_type": "stream",
     "text": [
      "Episode 100/100 took 4 steps.\n"
     ]
    }
   ],
   "source": [
    "env = WetChicken2D(L=5, W=3, max_steps=20, seed=207)\n",
    "no_action_policy = lambda state: (0,0)  # For any state, play the \"do nothing\" action.\n",
    "random_policy = None  # If the policy is None, the simulator chooses an action at random.\n",
    "\n",
    "# choose to run on the no-action policy\n",
    "env.run(episodes=100, progress=100, policy=no_action_policy)"
   ]
  },
  {
   "cell_type": "code",
   "execution_count": 5,
   "metadata": {},
   "outputs": [
    {
     "data": {
      "text/html": [
       "<div>\n",
       "<style scoped>\n",
       "    .dataframe tbody tr th:only-of-type {\n",
       "        vertical-align: middle;\n",
       "    }\n",
       "\n",
       "    .dataframe tbody tr th {\n",
       "        vertical-align: top;\n",
       "    }\n",
       "\n",
       "    .dataframe thead th {\n",
       "        text-align: right;\n",
       "    }\n",
       "</style>\n",
       "<table border=\"1\" class=\"dataframe\">\n",
       "  <thead>\n",
       "    <tr style=\"text-align: right;\">\n",
       "      <th></th>\n",
       "      <th>start_x</th>\n",
       "      <th>start_y</th>\n",
       "      <th>action_x</th>\n",
       "      <th>action_y</th>\n",
       "      <th>result_x</th>\n",
       "      <th>result_y</th>\n",
       "    </tr>\n",
       "  </thead>\n",
       "  <tbody>\n",
       "    <tr>\n",
       "      <th>344</th>\n",
       "      <td>1</td>\n",
       "      <td>5</td>\n",
       "      <td>0</td>\n",
       "      <td>0</td>\n",
       "      <td>1</td>\n",
       "      <td>5</td>\n",
       "    </tr>\n",
       "    <tr>\n",
       "      <th>482</th>\n",
       "      <td>3</td>\n",
       "      <td>4</td>\n",
       "      <td>0</td>\n",
       "      <td>0</td>\n",
       "      <td>3</td>\n",
       "      <td>0</td>\n",
       "    </tr>\n",
       "    <tr>\n",
       "      <th>78</th>\n",
       "      <td>3</td>\n",
       "      <td>4</td>\n",
       "      <td>0</td>\n",
       "      <td>0</td>\n",
       "      <td>3</td>\n",
       "      <td>1</td>\n",
       "    </tr>\n",
       "    <tr>\n",
       "      <th>185</th>\n",
       "      <td>1</td>\n",
       "      <td>5</td>\n",
       "      <td>0</td>\n",
       "      <td>0</td>\n",
       "      <td>1</td>\n",
       "      <td>5</td>\n",
       "    </tr>\n",
       "    <tr>\n",
       "      <th>261</th>\n",
       "      <td>1</td>\n",
       "      <td>5</td>\n",
       "      <td>0</td>\n",
       "      <td>0</td>\n",
       "      <td>1</td>\n",
       "      <td>5</td>\n",
       "    </tr>\n",
       "    <tr>\n",
       "      <th>...</th>\n",
       "      <td>...</td>\n",
       "      <td>...</td>\n",
       "      <td>...</td>\n",
       "      <td>...</td>\n",
       "      <td>...</td>\n",
       "      <td>...</td>\n",
       "    </tr>\n",
       "    <tr>\n",
       "      <th>98</th>\n",
       "      <td>1</td>\n",
       "      <td>5</td>\n",
       "      <td>0</td>\n",
       "      <td>0</td>\n",
       "      <td>1</td>\n",
       "      <td>5</td>\n",
       "    </tr>\n",
       "    <tr>\n",
       "      <th>322</th>\n",
       "      <td>1</td>\n",
       "      <td>5</td>\n",
       "      <td>0</td>\n",
       "      <td>0</td>\n",
       "      <td>1</td>\n",
       "      <td>5</td>\n",
       "    </tr>\n",
       "    <tr>\n",
       "      <th>382</th>\n",
       "      <td>1</td>\n",
       "      <td>5</td>\n",
       "      <td>0</td>\n",
       "      <td>0</td>\n",
       "      <td>1</td>\n",
       "      <td>5</td>\n",
       "    </tr>\n",
       "    <tr>\n",
       "      <th>365</th>\n",
       "      <td>2</td>\n",
       "      <td>2</td>\n",
       "      <td>0</td>\n",
       "      <td>0</td>\n",
       "      <td>2</td>\n",
       "      <td>0</td>\n",
       "    </tr>\n",
       "    <tr>\n",
       "      <th>510</th>\n",
       "      <td>3</td>\n",
       "      <td>3</td>\n",
       "      <td>0</td>\n",
       "      <td>0</td>\n",
       "      <td>3</td>\n",
       "      <td>3</td>\n",
       "    </tr>\n",
       "  </tbody>\n",
       "</table>\n",
       "<p>845 rows × 6 columns</p>\n",
       "</div>"
      ],
      "text/plain": [
       "     start_x  start_y  action_x  action_y  result_x  result_y\n",
       "344        1        5         0         0         1         5\n",
       "482        3        4         0         0         3         0\n",
       "78         3        4         0         0         3         1\n",
       "185        1        5         0         0         1         5\n",
       "261        1        5         0         0         1         5\n",
       "..       ...      ...       ...       ...       ...       ...\n",
       "98         1        5         0         0         1         5\n",
       "322        1        5         0         0         1         5\n",
       "382        1        5         0         0         1         5\n",
       "365        2        2         0         0         2         0\n",
       "510        3        3         0         0         3         3\n",
       "\n",
       "[845 rows x 6 columns]"
      ]
     },
     "execution_count": 5,
     "metadata": {},
     "output_type": "execute_result"
    }
   ],
   "source": [
    "transitions = env.extract_transition_dataset()\n",
    "transitions = transitions.sample(frac=1, replace=False, random_state=123)\n",
    "transitions"
   ]
  },
  {
   "cell_type": "code",
   "execution_count": 6,
   "metadata": {},
   "outputs": [
    {
     "name": "stdout",
     "output_type": "stream",
     "text": [
      "X : (845, 4)\n",
      "Y : (845, 2)\n"
     ]
    }
   ],
   "source": [
    "# Build training data (ignore X dimension and try to use starting Y position and Y action to predict landing Y position):\n",
    "X_train = transitions[['start_x','start_y','action_x','action_y']].to_numpy()\n",
    "Y_train = transitions[['result_x','result_y']].to_numpy()\n",
    "\n",
    "print('X :',X_train.shape)\n",
    "print('Y :',Y_train.shape)\n"
   ]
  },
  {
   "cell_type": "markdown",
   "metadata": {},
   "source": [
    "### Setup BNN_LV architecture and perform MLE fit"
   ]
  },
  {
   "cell_type": "code",
   "execution_count": 7,
   "metadata": {},
   "outputs": [
    {
     "name": "stdout",
     "output_type": "stream",
     "text": [
      "Iteration 0 lower bound 4481.055021590305; gradient mag: 10590.483018505067\n",
      "Iteration 500 lower bound 0.530766401352676; gradient mag: 1.405317503837177\n",
      "Iteration 1000 lower bound 0.34365123979103446; gradient mag: 0.17271908382051585\n",
      "Iteration 1500 lower bound 0.3201902746166378; gradient mag: 0.08780818212122739\n",
      "Iteration 2000 lower bound 0.31295976141118875; gradient mag: 0.04993304855621517\n",
      "Iteration 2500 lower bound 0.3104790305797631; gradient mag: 0.033626064458216386\n",
      "Iteration 3000 lower bound 0.30940594091711016; gradient mag: 0.023490289696886362\n",
      "Iteration 3500 lower bound 0.30881123679875155; gradient mag: 0.013064043013558697\n",
      "Iteration 4000 lower bound 0.30849093414411616; gradient mag: 0.09075189130422819\n",
      "Iteration 4500 lower bound 0.30823681087424487; gradient mag: 0.11579710816690593\n"
     ]
    }
   ],
   "source": [
    "# Parameters\n",
    "gamma_chicken = 1\n",
    "sigma_chicken = 1\n",
    "\n",
    "architecture_chicken = {'input_n':4, \n",
    "             'output_n':2, \n",
    "             'hidden_layers':[20,20],\n",
    "             'biases' : [1,1,1],\n",
    "             'activations' : ['relu', 'relu', 'linear'],\n",
    "             'gamma':[gamma_chicken],\n",
    "             'sigma':[sigma_chicken,sigma_chicken]}\n",
    "\n",
    "bnn_lv_chicken = BNN_LV_pymc3(architecture=architecture_chicken)\n",
    "\n",
    "bnn_lv_chicken.fit(X_train, Y_train, step_size=0.01, max_iteration=5000, check_point=500, regularization_coef=None)"
   ]
  },
  {
   "cell_type": "markdown",
   "metadata": {},
   "source": [
    "### Prepare parameters for pymc3 sampling"
   ]
  },
  {
   "cell_type": "code",
   "execution_count": null,
   "metadata": {},
   "outputs": [],
   "source": [
    "p_mu = 0\n",
    "p_sigma = 5\n",
    "l_sigma = 0.25\n",
    "lv_gamma = 2 # usual, multiplied by 2\n",
    "\n",
    "my_tune = 200\n",
    "my_draws = 150\n",
    "my_target_accept = 0.9\n",
    "my_max_treedepth = 15"
   ]
  },
  {
   "cell_type": "markdown",
   "metadata": {},
   "source": [
    "### Run pymc3"
   ]
  },
  {
   "cell_type": "code",
   "execution_count": 9,
   "metadata": {},
   "outputs": [],
   "source": [
    "with pm.Model() as pm_model:\n",
    "    \n",
    "    #prior on w (same shape as MLE)\n",
    "    w_prior = pm.Normal('w', mu=p_mu, sigma=p_sigma, shape=bnn_lv_chicken.weights.shape) \n",
    "    \n",
    "    # Latent variable prior (same shape as number of datapoints)\n",
    "    lv_prior = pm.Normal('z', mu=0, sigma=lv_gamma, shape=(X_train.shape[0],1))\n",
    "        \n",
    "    y = pm.Normal('y', mu = bnn_lv_chicken.forward(X = X_train, input_noise = lv_prior, weights=w_prior),\n",
    "                       sigma = l_sigma,\n",
    "                       observed = Y_train)\n",
    "    \n",
    "    trace = pm.sample(tune=my_tune, draws=my_draws, start = {'w': bnn_lv_chicken.weights},\n",
    "                      target_accept = my_target_accept, max_treedepth = my_max_treedepth)"
   ]
  },
  {
   "cell_type": "markdown",
   "metadata": {},
   "source": [
    "### Complete sampling and save/load samples obtained"
   ]
  },
  {
   "cell_type": "code",
   "execution_count": 10,
   "metadata": {},
   "outputs": [],
   "source": [
    "# np.save('saved_samples/chicken_samples_pymc3.npy',trace['w'])\n",
    "posterior_samples_pymc3_chicken = np.load('saved_samples/chicken_samples_pymc3.npy')"
   ]
  },
  {
   "cell_type": "code",
   "execution_count": 11,
   "metadata": {},
   "outputs": [
    {
     "data": {
      "text/plain": [
       "(600, 1, 582)"
      ]
     },
     "execution_count": 11,
     "metadata": {},
     "output_type": "execute_result"
    }
   ],
   "source": [
    "posterior_samples_pymc3_chicken.shape"
   ]
  }
 ],
 "metadata": {
  "kernelspec": {
   "display_name": "Python 3",
   "language": "python",
   "name": "python3"
  },
  "language_info": {
   "codemirror_mode": {
    "name": "ipython",
    "version": 3
   },
   "file_extension": ".py",
   "mimetype": "text/x-python",
   "name": "python",
   "nbconvert_exporter": "python",
   "pygments_lexer": "ipython3",
   "version": "3.7.8"
  }
 },
 "nbformat": 4,
 "nbformat_minor": 4
}
