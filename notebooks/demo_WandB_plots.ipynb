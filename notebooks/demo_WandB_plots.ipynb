{
 "cells": [
  {
   "cell_type": "code",
   "execution_count": null,
   "metadata": {
    "cell_id": "00000-01cf8199-39be-436b-bdae-b841d498df62",
    "deepnote_cell_type": "code",
    "execution_millis": 14,
    "execution_start": 1607662371474,
    "output_cleared": false,
    "scrolled": true,
    "source_hash": "251d15fd",
    "tags": []
   },
   "outputs": [],
   "source": [
    "%load_ext autoreload\n",
    "%autoreload 2\n"
   ]
  },
  {
   "cell_type": "code",
   "execution_count": null,
   "metadata": {
    "cell_id": "00001-53adf3d1-e88c-48d5-bf15-d0bd1d32f95e",
    "deepnote_cell_type": "code",
    "execution_millis": 11,
    "execution_start": 1607662371829,
    "output_cleared": false,
    "scrolled": true,
    "source_hash": "6b02eb0a",
    "tags": []
   },
   "outputs": [],
   "source": [
    "import sys\n",
    "sys.path.append('..')\n"
   ]
  },
  {
   "cell_type": "code",
   "execution_count": null,
   "metadata": {
    "cell_id": "00002-8ad2a56e-299f-44b6-9dda-315968fc2d66",
    "deepnote_cell_type": "code",
    "execution_millis": 575,
    "execution_start": 1607662372390,
    "output_cleared": false,
    "scrolled": true,
    "source_hash": "5de34825",
    "tags": []
   },
   "outputs": [],
   "source": [
    "import pandas as pd\n",
    "import autograd.numpy as np\n",
    "import matplotlib.pyplot as plt\n",
    "from IPython.display import display, Image\n",
    "\n",
    "from utils.models import BNN, BNN_LV\n",
    "from utils.functions import gaussian, log_gaussian\n",
    "from utils.training import HMC\n"
   ]
  },
  {
   "cell_type": "markdown",
   "metadata": {
    "cell_id": "00003-7e76dd25-3822-465b-a364-208984e88eeb",
    "deepnote_cell_type": "markdown",
    "tags": []
   },
   "source": [
    "## Set up Data and PDFs\n"
   ]
  },
  {
   "cell_type": "code",
   "execution_count": null,
   "metadata": {
    "cell_id": "00003-2c8dc870-ab2f-4aaa-92df-6211966cde32",
    "deepnote_cell_type": "code",
    "execution_millis": 19,
    "execution_start": 1607662374494,
    "output_cleared": false,
    "scrolled": true,
    "source_hash": "ff43f34b",
    "tags": []
   },
   "outputs": [],
   "source": [
    "# Use the test data from HW8\n",
    "data = pd.read_csv('../data/HW8_data.csv')\n",
    "X_train = np.array(data['x']).reshape(12,1)\n",
    "y_train = np.array(data['y']).reshape(12,1)\n",
    "\n",
    "\n",
    "# Set up the prior, likelihood and posterior\n",
    "def log_prior(W, mu, sigma):\n",
    "    \"\"\" Generate the prior PDF \"\"\"\n",
    "    return np.sum(log_gaussian(x=W, mu=mu, sigma=sigma), axis=-1)\n",
    "\n",
    "\n",
    "# Set up the prior, likelihood and posterior\n",
    "def log_latent_prior(z, mu, gamma):\n",
    "    \"\"\" Generate the prior PDF \"\"\"\n",
    "    return np.sum(np.sum(log_gaussian(x=z, mu=mu, sigma=gamma), axis=-1), axis=-1)\n",
    "\n",
    "\n",
    "def log_likelihood(W, X, Y, mu, sigma):\n",
    "    \"\"\" Generate the likelihood PDF \"\"\"\n",
    "    llh = np.sum(log_gaussian(x=Y, mu=mu, sigma=sigma), axis=0)\n",
    "    return llh\n",
    "\n",
    "\n",
    "def create_log_posterior(X, Y, p_mu, p_sigma, l_sigma, nn, gamma=False, latent=False):\n",
    "    \"\"\" Wrapper to create an initialized posterior PDF \"\"\"\n",
    "    if latent == False:\n",
    "        def log_posterior(W, X=X, Y=Y, p_mu=p_mu, p_sigma=p_sigma, l_sigma=l_sigma, nn=nn):\n",
    "            \"\"\" Generate the posterior PDF \"\"\"\n",
    "            mu_l = nn.forward(X, weights=W)\n",
    "            log_p = log_prior(W=W, mu=p_mu, sigma=p_sigma)\n",
    "            log_l = log_likelihood(W=W, X=X, Y=Y, mu=mu_l, sigma=l_sigma)\n",
    "            llh = log_p + log_l\n",
    "            return llh \n",
    "\n",
    "    elif latent == True:\n",
    "        def log_posterior(W, X=X, Y=Y, p_mu=p_mu, p_sigma=p_sigma, l_sigma=l_sigma, nn=nn, gamma=gamma):\n",
    "            \"\"\" Generate the posterior PDF \"\"\"\n",
    "            mu_l = nn.forward(X, weights=W)\n",
    "            z = nn.last_input_noise\n",
    "            log_p = log_prior(W=W, mu=p_mu, sigma=p_sigma)\n",
    "            log_zp = log_latent_prior(z=z, mu=0, gamma=gamma)\n",
    "            log_l = log_likelihood(W=W, X=X, Y=Y, mu=mu_l, sigma=l_sigma)\n",
    "            llh = log_p + log_l + log_zp\n",
    "            return llh \n",
    "    else:\n",
    "        raise ValueError(\"Error: latent must be one of [True, False]\")\n",
    "\n",
    "    return log_posterior\n"
   ]
  },
  {
   "cell_type": "markdown",
   "metadata": {
    "cell_id": "00005-ab1eab3c-9a4c-4d29-8abf-d94135f32eb1",
    "deepnote_cell_type": "markdown",
    "tags": []
   },
   "source": [
    "## Train a BNN+LV using HMC\n"
   ]
  },
  {
   "cell_type": "code",
   "execution_count": null,
   "metadata": {
    "cell_id": "00010-5647530b-31b8-42eb-8d86-e7b8e9be1e0b",
    "deepnote_cell_type": "code",
    "execution_millis": 7532,
    "execution_start": 1607664004285,
    "output_cleared": false,
    "scrolled": true,
    "source_hash": "55a77afb",
    "tags": []
   },
   "outputs": [],
   "source": [
    "# Parameters\n",
    "gamma = 1\n",
    "sigma = 1\n",
    "\n",
    "architecture = {\n",
    "    'input_n':1, \n",
    "    'output_n':1, \n",
    "    'hidden_layers':[5],\n",
    "    'biases' : [1,1],\n",
    "    'activations' : ['relu', 'linear'],\n",
    "    'gamma':[gamma],\n",
    "    'sigma':[sigma],\n",
    "}\n",
    "bnn_lv = BNN_LV(architecture=architecture)\n",
    "\n",
    "bnn_lv.fit(X_train, y_train, step_size=0.01, max_iteration=5000, check_point=500, regularization_coef=None)\n"
   ]
  },
  {
   "cell_type": "markdown",
   "metadata": {},
   "source": [
    "## Define W&B callbacks to make plots\n"
   ]
  },
  {
   "cell_type": "code",
   "execution_count": null,
   "metadata": {},
   "outputs": [],
   "source": [
    "# Import helpers for building callbacks:\n",
    "from utils.training import build_wb_callback_postpred\n",
    "from utils.training import build_wb_callback_plotfunc\n",
    "\n",
    "# Build a callback that produces a scatter plot using W&B built-in functions:\n",
    "wb_callback_postpred = build_wb_callback_postpred(model=bnn_lv, x_data=X_train)\n",
    "\n",
    "# # Import plotting function:\n",
    "# from utils.plot import plot_posterior_predictive\n",
    "\n",
    "# # Build a callback from a user-defined plotting function:\n",
    "# wb_callback_plotfunc = build_wb_callback_plotfunc(\n",
    "#     filename='hmc_plot.png', plot_func=plot_posterior_predictive,\n",
    "#     model=bnn_lv, x_data=X_train, mode='fill',\n",
    "#     figsize=(14,7), real_x=None, real_y=None,\n",
    "# )\n"
   ]
  },
  {
   "cell_type": "markdown",
   "metadata": {},
   "source": [
    "## Run HMC with W&B logging:\n"
   ]
  },
  {
   "cell_type": "code",
   "execution_count": null,
   "metadata": {
    "scrolled": true
   },
   "outputs": [],
   "source": [
    "# Define W&B settings:\n",
    "wb_settings = {\n",
    "    'entity' : 'gpestre',\n",
    "    'project' : 'am207',\n",
    "    'group' : 'demos',\n",
    "    'name' : 'callback_demo',\n",
    "    'notes' : 'Small test case',\n",
    "    'progress' : 10,\n",
    "    'base_path' : '../data/',\n",
    "    'filename' : 'temp_hmc_state.json',\n",
    "    'archive' : {  # Manually archive info about network and priors.\n",
    "        'architecture' : architecture,\n",
    "    },\n",
    "    'callback' : wb_callback_postpred,\n",
    "    #'callback' : [wb_callback_postpred, wb_callback_plotfunc],\n",
    "}\n"
   ]
  },
  {
   "cell_type": "code",
   "execution_count": null,
   "metadata": {
    "cell_id": "00012-0360900a-fee8-40fc-988e-5c59c4e7d39e",
    "deepnote_cell_type": "code",
    "execution_millis": 1851207,
    "execution_start": 1607664011817,
    "output_cleared": false,
    "scrolled": true,
    "source_hash": "d03526d3",
    "tags": []
   },
   "outputs": [],
   "source": [
    "# Build the posterior:\n",
    "log_posterior_bnn_lv = create_log_posterior(X_train, y_train, 0, 5, 0.25, bnn_lv, gamma=gamma, latent=True)\n",
    "\n",
    "# Use weights found from backprop as initial point for HMC:\n",
    "mle_lv_weights = bnn_lv.get_weights()\n",
    "\n",
    "# Sample from HMC:\n",
    "hmc = HMC(\n",
    "    log_target_func=log_posterior_bnn_lv, position_init=mle_lv_weights,\n",
    "    total_samples=100, burn_in=0.5, thinning_factor=1, \n",
    "    leapfrog_steps=20, step_size=1e-3, mass=1.0, random_seed=207,\n",
    "    progress=5, wb_settings=wb_settings,\n",
    ")\n"
   ]
  },
  {
   "cell_type": "code",
   "execution_count": null,
   "metadata": {
    "scrolled": true
   },
   "outputs": [],
   "source": []
  }
 ],
 "metadata": {
  "deepnote_execution_queue": [],
  "deepnote_notebook_id": "873da283-557a-4e4b-8ab4-457eae9dd0e7",
  "kernelspec": {
   "display_name": "Python 3",
   "language": "python",
   "name": "python3"
  },
  "language_info": {
   "codemirror_mode": {
    "name": "ipython",
    "version": 3
   },
   "file_extension": ".py",
   "mimetype": "text/x-python",
   "name": "python",
   "nbconvert_exporter": "python",
   "pygments_lexer": "ipython3",
   "version": "3.7.8"
  }
 },
 "nbformat": 4,
 "nbformat_minor": 2
}
