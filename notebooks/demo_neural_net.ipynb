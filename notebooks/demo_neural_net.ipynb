{
 "cells": [
  {
   "cell_type": "code",
   "execution_count": 1,
   "metadata": {},
   "outputs": [],
   "source": [
    "%load_ext autoreload\n",
    "%autoreload 2\n"
   ]
  },
  {
   "cell_type": "code",
   "execution_count": 2,
   "metadata": {},
   "outputs": [],
   "source": [
    "import sys\n",
    "sys.path.append('..')\n"
   ]
  },
  {
   "cell_type": "code",
   "execution_count": 3,
   "metadata": {},
   "outputs": [],
   "source": [
    "import autograd.numpy as np\n"
   ]
  },
  {
   "cell_type": "code",
   "execution_count": 4,
   "metadata": {},
   "outputs": [],
   "source": [
    "from utils.models import BNN\n"
   ]
  },
  {
   "cell_type": "markdown",
   "metadata": {},
   "source": [
    "<img src=\"../imgs/neural_net_unit_test_schematic.JPG\" width=60% />\n"
   ]
  },
  {
   "cell_type": "code",
   "execution_count": 5,
   "metadata": {},
   "outputs": [
    {
     "name": "stdout",
     "output_type": "stream",
     "text": [
      "Layer 1 : [[0. 1.]]\n",
      "Layer 2 : [[2. 3. 0.]]\n",
      "Layer 3 : [[ 7. -4.]]\n",
      "Layer 4 : [[  4. -14.]]\n"
     ]
    }
   ],
   "source": [
    "hidden_layers = [2,3,2]\n",
    "biases =      [1,0,0,1]\n",
    "activations = ['relu','relu','linear','linear']\n",
    "\n",
    "architecture = {\n",
    "    'input_n' : 2,\n",
    "    'output_n' : 2,\n",
    "    'hidden_layers' : hidden_layers,\n",
    "    'biases' : biases,\n",
    "    'activations' : activations,\n",
    "}\n",
    "\n",
    "layer1 = np.array([\n",
    "    [ 1, 0.5],\n",
    "    [ 3,   1],\n",
    "    [-2,   1],\n",
    "])\n",
    "\n",
    "layer2 = np.array([\n",
    "    [0, 1,  0],\n",
    "    [2, 3, -1],\n",
    "])\n",
    "\n",
    "layer3 = np.array([\n",
    "    [0.5,  1],\n",
    "    [  2, -2],\n",
    "    [  0,  2],\n",
    "])\n",
    "\n",
    "layer4 = np.array([\n",
    "    [1, -1],\n",
    "    [1,  2],\n",
    "    [1,  1],\n",
    "])\n",
    "\n",
    "# layer5 = np.array([\n",
    "#     [1, 0],\n",
    "#     [0, 1],\n",
    "# ])\n",
    "\n",
    "W_layers = [layer1,layer2,layer3,layer4]\n",
    "\n",
    "X = np.array([[4,-2]])\n",
    "Y = np.array([[4,-14]])\n",
    "\n",
    "# Calculate output for each layer:\n",
    "partial_networks = []\n",
    "for i in range(1,len(W_layers)+1):\n",
    "    arch = architecture.copy()\n",
    "    arch['hidden_layers'] = hidden_layers[:(i-1)]\n",
    "    arch['biases'] = biases[:i]\n",
    "    arch['activations'] = activations[:i]\n",
    "    if i < len(W_layers):\n",
    "        arch['output_n'] = hidden_layers[i-1]\n",
    "\n",
    "    bnn = BNN(arch)\n",
    "    bnn.set_weights(W_layers[:i])\n",
    "    partial_networks.append(bnn)\n",
    "\n",
    "    print(f\"Layer {i} :\",bnn.forward(X))\n",
    "    \n",
    "bnn = BNN(architecture)\n",
    "bnn.set_weights(W_layers)\n"
   ]
  },
  {
   "cell_type": "code",
   "execution_count": 8,
   "metadata": {},
   "outputs": [],
   "source": [
    "\n"
   ]
  },
  {
   "cell_type": "code",
   "execution_count": 94,
   "metadata": {},
   "outputs": [
    {
     "data": {
      "text/plain": [
       "array([[  5.0399631 , -13.96864506]])"
      ]
     },
     "execution_count": 94,
     "metadata": {},
     "output_type": "execute_result"
    }
   ],
   "source": [
    "arch = architecture\n",
    "arch['gamma'] = 0.4\n",
    "arch['sigma'] = [0.5,0.3]\n",
    "bnn_lv = BNN_LV(architecture)\n",
    "W_layers_lv = W_layers.copy()\n",
    "W_layers_lv[0] = np.array([\n",
    "    [ 1, 0.5],\n",
    "    [ 3,   1],\n",
    "    [ 1,   0],  # Noise feature.\n",
    "    [-2,   1],\n",
    "])\n",
    "bnn_lv.set_weights(W_layers_lv)\n",
    "bnn_lv.forward(X)\n"
   ]
  },
  {
   "cell_type": "code",
   "execution_count": null,
   "metadata": {},
   "outputs": [],
   "source": []
  }
 ],
 "metadata": {
  "kernelspec": {
   "display_name": "Python 3",
   "language": "python",
   "name": "python3"
  },
  "language_info": {
   "codemirror_mode": {
    "name": "ipython",
    "version": 3
   },
   "file_extension": ".py",
   "mimetype": "text/x-python",
   "name": "python",
   "nbconvert_exporter": "python",
   "pygments_lexer": "ipython3",
   "version": "3.7.8"
  }
 },
 "nbformat": 4,
 "nbformat_minor": 4
}
