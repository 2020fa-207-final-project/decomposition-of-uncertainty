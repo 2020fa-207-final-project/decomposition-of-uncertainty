{
 "cells": [
  {
   "cell_type": "markdown",
   "metadata": {},
   "source": [
    "### Heteroskedastic noise BNN_LV with PYMC3\n",
    "LV not explicitly included in pymc3 but in BNN_LV backend\n",
    "\n",
    "Samples saved out as `hsc_samples_pymc3.npy`"
   ]
  },
  {
   "cell_type": "code",
   "execution_count": 1,
   "metadata": {
    "id": "qDOZPhauSwLP"
   },
   "outputs": [],
   "source": [
    "from autograd import numpy as np\n",
    "from autograd import grad\n",
    "from autograd.misc.optimizers import adam, sgd\n",
    "from autograd import scipy as sp\n",
    "import pandas as pd\n",
    "import numpy\n",
    "import matplotlib.pyplot as plt\n",
    "import sys\n",
    "%matplotlib inline"
   ]
  },
  {
   "cell_type": "code",
   "execution_count": 2,
   "metadata": {},
   "outputs": [],
   "source": [
    "%load_ext autoreload\n",
    "%autoreload 2\n",
    "\n",
    "import sys\n",
    "sys.path.append('../..')\n",
    "from utils.data_gen import sample_gaussian_mixture, generate_regression_outputs"
   ]
  },
  {
   "cell_type": "code",
   "execution_count": 3,
   "metadata": {
    "id": "ktptm_-qXFfn"
   },
   "outputs": [],
   "source": [
    "import wandb\n",
    "import pymc3 as pm\n",
    "import theano.tensor as tt"
   ]
  },
  {
   "cell_type": "code",
   "execution_count": 4,
   "metadata": {
    "id": "lmmMimUqSwLV"
   },
   "outputs": [],
   "source": [
    "from IPython.core.debugger import set_trace"
   ]
  },
  {
   "cell_type": "markdown",
   "metadata": {
    "id": "cxNDEzREFRfO"
   },
   "source": [
    "# Helper Functions"
   ]
  },
  {
   "cell_type": "code",
   "execution_count": 5,
   "metadata": {
    "id": "urdxQRpOAbrO"
   },
   "outputs": [],
   "source": [
    "def myshape(x):\n",
    "  if((type(x) is np.numpy_boxes.ArrayBox) | (type(x) is numpy.ndarray)):\n",
    "    return x.shape\n",
    "  else:\n",
    "    return x.tag.test_value.shape"
   ]
  },
  {
   "cell_type": "code",
   "execution_count": 6,
   "metadata": {
    "id": "SnZ9_HMUV0Oa"
   },
   "outputs": [],
   "source": [
    "# https://github.com/Theano/Theano/pull/3769/files#diff-73defb19c53e8c96044c9d15c8a9d064\n",
    "# https://stackoverflow.com/questions/38929531/numpy-reshape-array-along-a-specified-axis\n",
    "\n",
    "import theano\n",
    "def ttmatmul(a, b):\n",
    "    \"\"\"\n",
    "    Computes the matrix multiplication two tensor variables.\n",
    "    If any operands are scalar an error is raised.\n",
    "    If number of dimensions do not match and one operand is a vector, the vector\n",
    "    is promoted to a matrix before applying operation.\n",
    "        Note: As the exact shape of the operands cannot be determined at\n",
    "        compilation time, it is not possible to infer whether the vector should\n",
    "        be treated as a row- or column vector. Therefore _column_ vectors will\n",
    "        be assumed, if any inference must be made. such promoted vector will\n",
    "        have shape = [1, m] as is the default transform from 1D array to\n",
    "        np.matrix in the numpy library. *note that this is not strictly\n",
    "        compliant with PEP 465*. Therefore the user must take care to correctly\n",
    "        transpose the vector if a row vector was intended.\n",
    "    For two matrices, this is equivalent to matrix multiplication.\n",
    "    For two vectors, this is the inner product.\n",
    "    If any operand has more than 2 dimensions, this is a batched matrix\n",
    "    multiplication:\n",
    "        The matrix multiplication is performed with the assumption, that the\n",
    "        operands are stacks of matrices with the matrix residing in the last 2\n",
    "        dimensions. (remember that a vector is promoted to matrix before this\n",
    "        step is reached)\n",
    "        The stacks do not have to have same number of dimensions, the stack with\n",
    "        the least number dimensions will be broadcast onto the other. This\n",
    "        corresponds to repeating the stack such that the resulting promoted\n",
    "        stack matches the other:\n",
    "            A.ndim = 3, B.ndim=4\n",
    "            B.shape[0] = 3\n",
    "            A -> Ap: [A, A, A]\n",
    "            Ap.ndim = 4\n",
    "            result: matmult(Ap, B)\n",
    "        The batching will the be performed over the first n-2 dimensions which\n",
    "        therefore must match:\n",
    "            Ap.shape[:-2] == B.shape[:-2]\n",
    "        To perform the matrix multiplication the last dimension of the first\n",
    "        operand must match the second to last operand of the second operand:\n",
    "            Ap.shape[-1] == B.shape[-2]\n",
    "        The result then has the shape:\n",
    "            B.shape[:-2] + B[-2] + A[-1]\n",
    "    \"\"\"\n",
    "    nd1, nd2 = a.ndim, b.ndim\n",
    "\n",
    "    # According to PEP 465 matmul should *not* work with scalars\n",
    "    if nd1 == 0 or nd2 == 0:\n",
    "        raise ValueError(\"Scalar operands are not allowed, use '*' instead\")\n",
    "\n",
    "    # If both operands have ndim < 2 this a simple dot operation\n",
    "    # promotion of 1d vectors to 2d matrix should be handled by dot()\n",
    "    if nd1 <= 2 and nd2 <= 2:\n",
    "        return tt.dot(a, b)\n",
    "\n",
    "    # if any operand have ndim > 2 this is a batched matrix multiplication.\n",
    "\n",
    "    # do vector promotion\n",
    "    if a.ndim == 1:\n",
    "        a = a.reshape([a.shape[0], 1], 2)\n",
    "\n",
    "    if b.ndim == 1:\n",
    "        b = b.reshape([b.shape[0], 1], 2)\n",
    "\n",
    "    # if the stacks are not aligned, use scan to iterate over first dimension\n",
    "    # of largest operand and call recursively until a and b has same ndim\n",
    "    if nd1 != nd2:\n",
    "        if a.ndim > b.ndim:\n",
    "            result, updates = theano.scan(\n",
    "                fn=lambda a_sub_tensor, _b:\n",
    "                ttmatmul(a_sub_tensor, _b),\n",
    "                outputs_info=None,\n",
    "                sequences=[a],\n",
    "                non_sequences=[b])\n",
    "            return result\n",
    "\n",
    "        if a.ndim < b.ndim:\n",
    "            result, updates = theano.scan(\n",
    "                fn=lambda b_sub_tensor, _a:\n",
    "                ttmatmul(_a, b_sub_tensor),\n",
    "                outputs_info=None,\n",
    "                sequences=[b],\n",
    "                non_sequences=[a])\n",
    "            return result\n",
    "\n",
    "    # If this code is reached operands have same number of dimensions\n",
    "    # shape of a and b must be the same except for the last 2 axes which must\n",
    "    # be compatible with a matrix multiplication:\n",
    "    #   a: ND (..., dim1, dim2)\n",
    "    #   b: ND (..., dim2, dim3)\n",
    "\n",
    "    # for ndim 3 there exists a method we can use without modification\n",
    "    if nd1 == 3:\n",
    "        return tt.batched_dot(a, b)\n",
    "\n",
    "    # for ndim > 3 we flatten all but last 2 dimensions such that the new\n",
    "    # operands have ndim == 3\n",
    "\n",
    "    _a = a.reshape([-1, a.shape[-2], a.shape[-1]], 3)\n",
    "    _b = b.reshape([-1, b.shape[-2], b.shape[-1]], 3)\n",
    "    out = tt.batched_dot(_a, _b)\n",
    "    return out.reshape(concatenate([a.shape[:-1], [b.shape[-1]]]), a.ndim)\n"
   ]
  },
  {
   "cell_type": "code",
   "execution_count": 7,
   "metadata": {
    "id": "FERBCSPE9qzX"
   },
   "outputs": [],
   "source": [
    "\"\"\"\n",
    "Implementations of Bayesian models.\n",
    "For neural networks, we describe the dimensions\n",
    "with the following conventions, unless otherwise noted:\n",
    "- The input X is generally a dataset with N rows and M features.\n",
    "  In some cases, we may have a \"stack\" of R datasets\n",
    "  (i.e. X may be a R-by-N-by-M tensor instead of the usual N-by-M matrix)\n",
    "  but this case is not supported by our initial implementations.\n",
    "- The output Y is generally an N-by-K matrix (for a K-output model)\n",
    "  but may also be R-by-N-by-K, analogously with the input X.\n",
    "- The weights W of a single neural network are stored\n",
    "  as a 1-by-D matrix (for a network with D weights).\n",
    "  When representing the weights of a set of S models\n",
    "  (e.g. mutiple samples from a posterior), the weights\n",
    "  may be stored in an S-by-D matrix. (Additionally,\n",
    "  our implementation has an internal representation\n",
    "  that uses a list of weights for each layer, but\n",
    "  that version need not be exposed to the user.)\n",
    "- In a latent variable model, the X and Y inputs follow the same\n",
    "  conventions as above, but L latent features of Gaussian noise\n",
    "  are appeneded to the input X to form an augmented input X'.\n",
    "  Typically there is a single latent variable (i.e. L=1),\n",
    "  but we have made our implementation flexible so that we can\n",
    "  exeperiment with multiple latent variables.\n",
    "  Additionally, Gaussian noise is added to each of the output Y\n",
    "  (potentially with a different variance for each of the K outputs),\n",
    "  to form a pertured output Y'.\n",
    "In summary:\n",
    "- R: number of \"stacked\" datasets for X and Y (and X' and Y').\n",
    "- N: number of data points in X and Y (and X' and Y').\n",
    "- M: number of features in X.\n",
    "- K: number of outputs in Y.\n",
    "- S: number of different models in W.\n",
    "- D: number of weights in each model.\n",
    "- L: number of latent noise inputs.\n",
    "\"\"\"\n",
    "\n",
    "\n",
    "from autograd import numpy as np\n",
    "from autograd import grad\n",
    "from autograd.misc.optimizers import adam\n",
    "\n",
    "class BNN:\n",
    "    \"\"\"\n",
    "    A nerual network with M inputs and K outputs with D weights.\n",
    "    The weights are represented as an S-by-D matrix,\n",
    "    where D is the total number of weights in the network\n",
    "    and S is typically 1 but can be an abitrary number of models\n",
    "    (e.g. when doing a forward pass on a family of models \n",
    "    sampled from a posterion during Bayesian modeling).\n",
    "    \"\"\"\n",
    "\n",
    "    def __init__(self, architecture, seed = None, weights = None):\n",
    "        \n",
    "        # Layer Assertions\n",
    "        assert len(architecture['biases']) == len(architecture['activations']), \"Error: Mismatch in layer dimensions - biases vs activations\"\n",
    "        assert (len(architecture['biases'])-1) == len(architecture['hidden_layers']), \"Error: Mismatch in layer dimensions - must be 1 fewer hidden layer than biases/activations\"\n",
    "        for bias in architecture['biases']:\n",
    "            assert bias == bool or bias == 1 or bias == 0, \"Error: biases must be bool or int[0,1]\"\n",
    "        for act in architecture['activations']:\n",
    "            assert act in ['relu', 'linear'], \"Error: Only 'relu' and 'linear' activations have been implemented\"\n",
    "\n",
    "        # Combine output and hidden layers together to match N weight layers\n",
    "        all_layers = architecture['hidden_layers'].copy()\n",
    "        all_layers.append(architecture['output_n'])\n",
    "\n",
    "        self.layers = {'input_n' : architecture['input_n'],\n",
    "                       'output_n' : architecture['output_n'],\n",
    "                       'hidden_layers_shape' : architecture['hidden_layers'],\n",
    "                       'all_layers_shape' : all_layers,\n",
    "                       'biases' : architecture['biases'],\n",
    "                       'activations' : architecture['activations']}   \n",
    "        self._D, self._layers_D = self._calculate_network_size()\n",
    "        self.objective_trace = np.empty((1, 1))\n",
    "        self.weight_trace = np.empty((1, self.D))\n",
    "        \n",
    "        self.seed = seed\n",
    "        self.random = np.random.RandomState(seed)\n",
    "\n",
    "        if weights is None:\n",
    "            self.weights = self.random.normal(0, 1, size=(1, self.D))\n",
    "        else:\n",
    "            assert type(weights) == np.ndarray, \"Error: Weights must be a numpy array\"\n",
    "            assert len(myshape(weights)) == 2, \"Error: Weights must be specified as a 2D numpy array\"\n",
    "            assert myshape(weights)[1] == self.D, f\"Error: Weight dimensions must match the shape specified in the architecture ((1,{self.D}))\"\n",
    "            self.weights = weights\n",
    "\n",
    "    @property\n",
    "    def M(self):\n",
    "        \"\"\" Input dimensions. \"\"\"\n",
    "        return self.layers['input_n']\n",
    "\n",
    "    @property\n",
    "    def K(self):\n",
    "        \"\"\" Output dimensions. \"\"\"\n",
    "        return self.layers['output_n']\n",
    "\n",
    "    @property\n",
    "    def D(self):\n",
    "        \"\"\" Total number of weights. \"\"\"\n",
    "        return self._D\n",
    "\n",
    "    @property\n",
    "    def S(self):\n",
    "        \"\"\" Number of different models for which the weights are stored. \"\"\"\n",
    "        return myshape(self.weights)[0]\n",
    "\n",
    "    @property\n",
    "    def H(self):\n",
    "        \"\"\" Number of hidden layers (not counting input or output). \"\"\"\n",
    "        return len(self.layers['hidden_layers_shape'])\n",
    "\n",
    "    def _calculate_network_size(self):\n",
    "        '''\n",
    "        Calculate the number of weights required to represent the specific architecture\n",
    "        '''\n",
    "        D = 0\n",
    "        layers_D = []\n",
    "        for i in range(len(self.layers['hidden_layers_shape'])):\n",
    "            # First layer so use input nodes\n",
    "            if i == 0:\n",
    "                D += (self.layers['input_n'] * self.layers['hidden_layers_shape'][i])\n",
    "            else:\n",
    "                D += self.layers['hidden_layers_shape'][i-1] * self.layers['hidden_layers_shape'][i]\n",
    "            if self.layers['biases'][i]:\n",
    "                D += self.layers['hidden_layers_shape'][i]\n",
    "            layers_D.append(D - int(np.sum(layers_D)))\n",
    "        # Final output layer\n",
    "        if len(self.layers['hidden_layers_shape'])>0:\n",
    "            D += self.layers['hidden_layers_shape'][-1] * self.layers['output_n']\n",
    "        else:  # Special case if there are no hidden layers:\n",
    "            D += self.layers['input_n'] * self.layers['output_n']\n",
    "        if self.layers['biases'][-1]:\n",
    "            D += self.layers['output_n']\n",
    "        layers_D.append(D - int(np.sum(layers_D)))\n",
    "\n",
    "        return D, layers_D\n",
    "\n",
    "    def stack_weights(self, W_layers):\n",
    "        \"\"\"\n",
    "        Takes a list of (S-by-)IN-by-OUT tensors\n",
    "        storing the weights for each layer in a model\n",
    "        (or in each model from a set of S models)\n",
    "        and returns an S-by-D matrix of the weights\n",
    "        for the whole network (where S is 1 if there is only 1 model).\n",
    "        IN and OUT are the number of input and output nodes\n",
    "        for the given layer.\n",
    "        \"\"\"\n",
    "        \n",
    "        # Store results:\n",
    "        W = []\n",
    "\n",
    "        # Check numer of layers:\n",
    "        n_layers = len(self.layers['all_layers_shape'])\n",
    "        assert len(W_layers)==n_layers, f\"Received {len(W_layers)} layers but expected {n_layers}.\"\n",
    "        \n",
    "        # Get dimensions:\n",
    "        S = myshape(W_layers[0])[0] if len(myshape(W_layers[0]))==3 else 1\n",
    "        \n",
    "        # Loop through layers:\n",
    "        for i,W_layer in enumerate(W_layers):\n",
    "            \n",
    "            # Get expected layer sizes:\n",
    "            if i==0:\n",
    "                source_size = self.layers['input_n']\n",
    "            else:\n",
    "                source_size = self.layers['all_layers_shape'][i-1]\n",
    "            source_size += self.layers['biases'][i]\n",
    "            target_size = self.layers['all_layers_shape'][i]\n",
    "            \n",
    "            # Check dimensions:\n",
    "            if len(myshape(W_layer))==2:\n",
    "                W_layer = W_layer.reshape((1,*myshape(W_layer)))\n",
    "            elif len(myshape(W_layer))==3:\n",
    "                assert myshape(W_layer)[0]==S, f\"[layer {i+1}] Encounted set of {myshape(W_layer)[0]} weights but expected {S}.\"\n",
    "            else:\n",
    "                raise ValueError(\"W should be (S-by-)IN-by-OUT, i.e. (3 or) 2 dimenisions.\")\n",
    "            assert myshape(W_layer)[-2]==source_size, f\"[layer {i+1}] Rows ({myshape(W_layer)[-2]}) should correspond to input nodes ({source_size}).\"\n",
    "            assert myshape(W_layer)[-1]==target_size, f\"[layer {i+1}] Columns ({myshape(W_layer)[-1]}) should correspond to output nodes ({target_size}).\"\n",
    "            \n",
    "            # Reshape and add to stack:\n",
    "            W_layer = W_layer.reshape((S,source_size*target_size))\n",
    "            W.append(W_layer)\n",
    "        \n",
    "        W = np.hstack(W)\n",
    "        assert myshape(W) == (S,self.D), f\"Found {myshape(W)[1]} weights but expected {self.D}.\"\n",
    "        \n",
    "        return W\n",
    "\n",
    "    def unstack_weights(self, W):\n",
    "        \"\"\"\n",
    "        Creates a list of the weights for each layer.\n",
    "        W may be a row-vector of weights, or a matrix\n",
    "        where each row corresponds to a different\n",
    "        specification of the model (e.g. we may have S\n",
    "        sets of weights, representing S different BNNs,\n",
    "        given as a S-by-D matrix.)\n",
    "        \"\"\"\n",
    "        \n",
    "        if len(myshape(W))==1:\n",
    "            W = W.reshape((1,-1))\n",
    "        elif len(myshape(W))==2:\n",
    "            assert myshape(W)[1] == self.D, \"Second dimension must match number of weights.\"\n",
    "        else:\n",
    "            raise ValueError(\"W should be S-by-D or 1-by-D (i.e. max 2 dimenisions).\")\n",
    "        \n",
    "        # Determine how many sets of weights we have:\n",
    "        S = myshape(W)[0]\n",
    "            \n",
    "        # Get sizes of layers:\n",
    "        source_sizes = [self.layers['input_n']] + self.layers['all_layers_shape'][:-1]\n",
    "        target_sizes = self.layers['all_layers_shape']\n",
    "        for i,bias in enumerate(self.layers['biases']):\n",
    "            source_sizes[i] += bias  # 0 or 1\n",
    "            \n",
    "        # Loop through layers:\n",
    "        W_layers = []\n",
    "        cursor = 0  # Keep track row of W.\n",
    "        for source_size, target_size in zip(source_sizes,target_sizes):\n",
    "            # Get the chunk of weights corresponding to this layer:\n",
    "            W_layer = W[ :, cursor:(cursor+source_size*target_size) ]\n",
    "            # Reshape the chunk to stack of matrices (i.e. a 3d tensor)\n",
    "            # Where each matrix has rows corresponding to source nodes\n",
    "            # and columns corresponding to target nodes:\n",
    "            W_layer = W_layer.reshape((S, source_size, target_size))\n",
    "            # Add tensor to list:\n",
    "            W_layers.append(W_layer)\n",
    "            # Update cursor:\n",
    "            cursor += source_size*target_size\n",
    "            \n",
    "        return W_layers\n",
    "\n",
    "    def set_weights(self, weights):\n",
    "        '''\n",
    "        Manually set the weights of the Neural Network\n",
    "        '''\n",
    "        if isinstance(weights, list):\n",
    "            weights = self.stack_weights(weights)\n",
    "        assert type(weights) == np.ndarray, \"Error: Weights must be a numpy array\"\n",
    "        assert len(myshape(weights)) == 2, \"Error: Weights must be specified as a 2D numpy array\"\n",
    "        assert myshape(weights)[1] == self.D, f\"Error: Weight dimensions must match the shape specified in the architecture (num_weights={self.D})\"\n",
    "        self.weights = weights\n",
    "        return\n",
    "\n",
    "    def get_weights(self):\n",
    "        '''\n",
    "        Simple wrapper to return weights\n",
    "        '''\n",
    "        return self.weights\n",
    "\n",
    "    @staticmethod\n",
    "    def relu(x):\n",
    "      if((type(x) is np.numpy_boxes.ArrayBox) | (type(x) is numpy.ndarray)):\n",
    "        return np.maximum(np.zeros(shape=myshape(x)), x)\n",
    "      else:\n",
    "        return pm.math.maximum(np.zeros(x.tag.test_value.shape), x)\n",
    "\n",
    "    @staticmethod\n",
    "    def identity(x):\n",
    "        return x\n",
    "\n",
    "    def fit(self, X, Y, step_size=0.01, max_iteration=5000, check_point=100, regularization_coef=None):\n",
    "        '''\n",
    "        '''\n",
    "        # Check X dimensions:\n",
    "        if len(myshape(X)) < 2:\n",
    "            raise ValueError(f\"X should be (at least) 2 dimensional; myshape(X)={myshape(X)}.\")\n",
    "        assert myshape(X)[-1]==self.M, f\"Last dimenion of X is {myshape(X)[-1]} but should correspond to {self.M} inputs (i.e. features)\"\n",
    "        # Check Y dimensions:\n",
    "        if len(myshape(Y)) < 2:\n",
    "            raise ValueError(f\"Y should be (at least) 2 dimensional; myshape(Y)={myshape(Y)}.\")\n",
    "        assert myshape(Y)[-1]==self.K, f\"Last dimenion of Y is {myshape(Y)[-1]} but should correspond to {self.K} output\"\n",
    "        # Get number of \"stacks\" of datasets (i.e. the arbitrary dimensions before N and M,K):\n",
    "        assert myshape(X)[:-1] ==  myshape(Y)[:-1], f\"Besides the final dimension (M,K), the dimensions of X {myshape(X)} and Y {myshape(Y)} should match.\"\n",
    "        N = myshape(X)[-2]  # Number of rows.\n",
    "        R = myshape(X)[:-2]  # Arbitrary dimensions that precede the number of rows (N) and features (M).\n",
    "        # Raise implementation error if there is more than a single 2D dataset:\n",
    "        if len(R)>0:\n",
    "            raise NotImplementedError(f\"Current implementation does not support datasets of aritrary dimension, must be N-by-M; myshape(X)={myshape(X)}.\")\n",
    "        \n",
    "        def objective(W, t):\n",
    "            ''' Callbacks for each optimization step '''\n",
    "            squared_error = np.linalg.norm(Y - self.forward(X, weights=W), axis=-1)**2\n",
    "            if regularization_coef is None:\n",
    "                mse = np.mean(squared_error, axis=-1)\n",
    "                return mse\n",
    "            else:\n",
    "                mse = np.mean(squared_error, axis=-1) + regularization_coef * np.linalg.norm(W, axis=-1)\n",
    "                return mse\n",
    "\n",
    "        obj_gradient = grad(objective)\n",
    "\n",
    "        def _call_back(weights, iteration, g):\n",
    "            ''' Callbacks for each optimization step '''\n",
    "            objective_val = objective(weights, iteration)\n",
    "            self.objective_trace = np.vstack((self.objective_trace, objective_val))\n",
    "            self.weight_trace = np.vstack((self.weight_trace, weights))\n",
    "            if iteration % check_point == 0:\n",
    "                print(\"Iteration {} lower bound {}; gradient mag: {}\".format(iteration, objective_val, np.linalg.norm(obj_gradient(weights, iteration))))\n",
    "\n",
    "    \n",
    "        # Run the training method\n",
    "        adam(obj_gradient, self.weights, step_size=step_size, num_iters=max_iteration, callback=_call_back)\n",
    "        optimum_index = np.argmin(self.objective_trace[1:])\n",
    "        self.weights = self.weight_trace[1:][optimum_index].reshape((1,-1))\n",
    "        return\n",
    "\n",
    "    def forward(self, X, weights=None):\n",
    "        '''\n",
    "        Perform a forward pass through the network from input to output.\n",
    "        Requires the last dimension of X to be the number of inputs (i.e. features).\n",
    "        X is generally expected by be an N-by-M matrix, but may in fact have\n",
    "        an arbitrary dimensions instead of N (as long as M is the last dimension).\n",
    "        The K outputs will be along the last dimension (with prior dimensions\n",
    "        matching those of X, i.e. the typical output will be an N-by-K matrix).\n",
    "        '''\n",
    "        # Check X dimensions:\n",
    "        if len(myshape(X)) < 2:\n",
    "            raise ValueError(f\"X should be (at least) 2 dimensional; myshape(X)={myshape(X)}.\")\n",
    "        M = myshape(X)[-1]  # Number of features (final dimension).\n",
    "        N = myshape(X)[-2]  # Number of rows (dimension before last).\n",
    "        R = myshape(X)[:-2]  # Arbitrary dimensions that precede the number of rows (N) and features (M).\n",
    "        assert myshape(X)[-1]==self.M, f\"Last dimenion of X is {myshape(X)[-1]} but should correspond to {self.M} inputs (i.e. features)\"\n",
    "        # Raise implementation error if there is more than a single 2D dataset:\n",
    "        if len(R)>0:\n",
    "            raise NotImplementedError(f\"Current implementation does not support datasets of aritrary dimension, must be N-by-M; myshape(X)={myshape(X)}.\")\n",
    "        \n",
    "        # Get weights for each layer (as tensors):\n",
    "        weights = self.weights if weights is None else weights\n",
    "        W_layers = self.unstack_weights(W=weights)\n",
    "\n",
    "        # Determine shape of output:\n",
    "        S = myshape(weights)[0]  # Number of different models represented.\n",
    "        Y_shape = tuple([ S, *myshape(X)[:-1], self.layers['output_n'] ])  # Determine shape of output.\n",
    "\n",
    "        # Copy data to values to iterate through the network\n",
    "        values_in = X.copy()\n",
    "\n",
    "        # Loop through layers:\n",
    "        #   Reminder: W_layer is an S-by-IN-by-OUT tensor of the weights for S models,\n",
    "        #   with layer inputs on the rows and layer outputs on the columns.\n",
    "        for i, weights in enumerate(W_layers):\n",
    "            \n",
    "            # If there is a bias, postpend a column of ones to each matrix:\n",
    "            bias = self.layers['biases'][i]\n",
    "            if bias==1:\n",
    "                bias_features = np.ones((*myshape(values_in)[:-1],1))\n",
    "                if((type(weights) is np.numpy_boxes.ArrayBox) | (type(weights) is numpy.ndarray)):\n",
    "                  values_in = np.append(values_in,bias_features,axis=-1)\n",
    "                else:\n",
    "                  values_in = tt.concatenate([values_in,bias_features],axis=-1)\n",
    "                # values_in = numpy.concatenate([values_in,bias_features], axis=len(myshape(values_in))-1) ##edited\n",
    "\n",
    "            # Calculate pre-activation values:\n",
    "            # set_trace()\n",
    "            if((type(weights) is np.numpy_boxes.ArrayBox) | (type(weights) is numpy.ndarray)):\n",
    "              values_pre = np.matmul( values_in, weights )\n",
    "            else:\n",
    "              values_pre = ttmatmul(values_in, weights)\n",
    "            \n",
    "\n",
    "            # Apply activation fucntion:\n",
    "            if self.layers['activations'][i] == 'relu':\n",
    "                values_out = self.relu(values_pre)\n",
    "            elif self.layers['activations'][i] == 'linear':\n",
    "                values_out = self.identity(values_pre)\n",
    "            else:\n",
    "                raise ValueError(f\"Error: Unexpected activation type - {self.layers['activations'][i]}\")\n",
    "\n",
    "            # Pass output values as input to next layer:\n",
    "            values_in = values_out\n",
    "\n",
    "        Y = values_out.reshape((Y_shape))\n",
    "\n",
    "        # Special case: If input was 2D and there is only one set of weights\n",
    "        # return a 2D output instead of 3D output with a first dimension of 1:\n",
    "        if (S==1) and (len(myshape(Y))==3) and (myshape(Y)[0]==1):\n",
    "            S,N,K = myshape(Y)\n",
    "            Y = Y.reshape((N,K))  # Drop the first dimension where S=1.\n",
    "        \n",
    "        return Y\n",
    "\n",
    "\n",
    "class BNN_LV(BNN):\n",
    "    \"\"\"\n",
    "    Implementation of Bayesian Neural Network with Latent Variables\n",
    "    https://arxiv.org/pdf/1605.07127.pdf  Section 2.2.\n",
    "    \"\"\"\n",
    "\n",
    "    def __init__(self, architecture, seed = None, weights = None):\n",
    "        \"\"\"\n",
    "        Initialize a BNN with Latent Variable:\n",
    "            Given an input X with N rows and M features,\n",
    "            augment X by appeend L gaussian noise features (forming a modfied input X')\n",
    "            and perturb Y by adding gaussian noise (forming a modified output Y').\n",
    "            All noise has mean zero, and the standard devation is a hyperparameter:\n",
    "            Each of the L latent variable inputs has its own standard deviation (gamma)\n",
    "            and the noise on each of the K outputs has its own standard deviation (sigma).\n",
    "        Uses the same architecture as the BNN superclass, but expects additional keys:\n",
    "            gamma : list of L standard deviations for the latent variable inputs.\n",
    "            sigma : list of K standard deviations for the additive output noises.\n",
    "        \"\"\"\n",
    "        # Add a noise input.\n",
    "        architecture = architecture.copy()\n",
    "        assert 'input_n' in architecture.keys()  # Will be augmented by L below.\n",
    "        # Get standard deviation of noise:\n",
    "        if 'gamma' not in architecture:\n",
    "            raise KeyError(\"Make sure achitecture includes 'gamma' (list of standard deviations for the L latent variable inputs).\")\n",
    "        self.gamma = architecture['gamma']  # List.\n",
    "        if 'sigma' not in architecture:\n",
    "            raise KeyError(\"Make sure achitecture includes 'sigma' (list of standard deviations for the K additive output noises).\")\n",
    "        self.sigma = architecture['sigma']  # List.\n",
    "        # Check dimensions:\n",
    "        self.gamma = np.array([self.gamma]).flatten()  # Coerce list to numpy array.\n",
    "        self.sigma = np.array([self.sigma]).flatten()  # Coerce list to numpy array.\n",
    "        if len(self.sigma) != architecture['output_n']:\n",
    "            raise ValueError(f\"The dimension of 'sigma' ({len(self.sigma)}) should match the dimension of the output ({architecture['output_n']}).\")\n",
    "        # Adjust input size by number of latent variables:\n",
    "        self.L = len(self.gamma)\n",
    "        architecture['input_n'] += self.L\n",
    "        # Build a neural_network:\n",
    "        super().__init__(architecture, seed=seed, weights=weights)\n",
    "        # Keep track of latest noise variables:\n",
    "        self.last_input_noise = None\n",
    "        self.last_output_noise = None\n",
    "        # Store addition state variables:\n",
    "        self.fitting = False  # Flag for handing recursive calls to `fit` (generally False).\n",
    "    \n",
    "    def add_input_noise(self,X, input_noise='auto'):\n",
    "        \"\"\"\n",
    "        Add a feature of input noise drawn from a Gaussian distribution\n",
    "        with mean 0 and the standard deviation.\n",
    "        X:\n",
    "            The input to augment with latent features.\n",
    "        input_noise:\n",
    "            'auto' : Stochasticify is added automatically according to the BNN_LV's parameters.\n",
    "            'zero' : No noise is added (i.e. adds columns of zeros instead of noise features).\n",
    "            [tensor-like object] : Adds user-specified noise.\n",
    "        \"\"\"\n",
    "        Z_shape = tuple((*myshape(X)[:-1],self.L))\n",
    "        if input_noise=='auto':\n",
    "            Z = self.random.normal(loc=0, scale=self.gamma, size=Z_shape)\n",
    "        elif input_noise=='zero':\n",
    "            Z = np.zeros(Z_shape)\n",
    "        else:\n",
    "            try:\n",
    "                Z = input_noise\n",
    "                assert myshape(Z) == Z_shape\n",
    "            except:\n",
    "                raise ValueError(f\"Expected an tensor-like object with shape {Z_shape} .\")\n",
    "        self.last_input_noise = Z  # Store last noise for access during training.\n",
    "        \n",
    "        if((type(Z) is np.numpy_boxes.ArrayBox) | (type(Z) is numpy.ndarray)):\n",
    "            X_ = np.append(X,Z, axis=-1)\n",
    "        else:\n",
    "            X_ = tt.concatenate([X,Z], axis=-1)\n",
    "        \n",
    "        return X_\n",
    "    \n",
    "    def add_output_noise(self,Y_, output_noise='auto'):\n",
    "        \"\"\"\n",
    "        Corrupt output with additive noise drawn from a Gaussian distribution\n",
    "        with mean 0 and a standard deviation specified for each dimension of the output.\n",
    "        Y_:\n",
    "            The output to perturb with additive noise.\n",
    "        output_noise:\n",
    "            'auto' : Stochasticify is added automatically according to the BNN_LV's parameters.\n",
    "            'zero' : No noise is added (i.e. leaves the output unchanged).\n",
    "            [tensor-like object] : Adds user-specified noise.\n",
    "        \"\"\"\n",
    "        Eps_shape = myshape(Y_)\n",
    "        if output_noise=='auto':\n",
    "            Eps = self.random.normal(loc=0, scale=self.sigma, size=Eps_shape)\n",
    "        elif output_noise=='zero':\n",
    "            Eps = np.zeros(Eps_shape)\n",
    "        else:\n",
    "            try:\n",
    "                Eps = output_noise\n",
    "                assert myshape(Eps) == Eps_shape\n",
    "            except:\n",
    "                raise ValueError(f\"Expected an tensor-like object with shape {Eps_shape} .\")\n",
    "        self.last_output_noise = Eps  # Store last noise for access during training.\n",
    "        Y = Y_ + Eps\n",
    "        return Y\n",
    "        \n",
    "    def forward(self, X, weights=None, input_noise='auto', output_noise='auto'):\n",
    "        \"\"\"\n",
    "        Perform a forward pass. Noise is added automatically unless specified by the user.\n",
    "        input_noise:\n",
    "            Parameter passed to `add_input_noise` (see that function for details).\n",
    "        output_noise:\n",
    "            Parameter passed to `add_output_noise` (see that function for details).\n",
    "        \"\"\"\n",
    "        # Add input noise (extra feature):\n",
    "        # Note: During gradient descent (i.e. when `fitting` flag is True),\n",
    "        #       this step is skipped because noise was already added by `fit` method.\n",
    "        if not self.fitting:\n",
    "            X_ = self.add_input_noise(X, input_noise=input_noise)\n",
    "        else:\n",
    "            # During gradient descent (i.e. when `fitting` flag is True),\n",
    "            # don't augment X because that was already handled by `fit` method.\n",
    "            X_ = X\n",
    "\n",
    "        # Perform forward pass through regular BNN:\n",
    "        Y_ = super().forward(X_, weights=weights)\n",
    "\n",
    "        # Add output noise (additive):\n",
    "        if not self.fitting:\n",
    "            Y = self.add_output_noise(Y_, output_noise=output_noise)\n",
    "        else:\n",
    "            # During gradient descent (i.e. when `fitting` flag is True),\n",
    "            # don't augment Y because that was already handled by `fit` method.\n",
    "            Y = Y_\n",
    "        return Y\n",
    "\n",
    "    def fit(self, X, Y, *args, **kwargs):\n",
    "        \"\"\"\n",
    "        Fit the non-noisy verion of the neural net using gradient descent.\n",
    "        (This is a non-bayesian approach, but useful for finding initialization weights).\n",
    "        \"\"\"\n",
    "        # Prepare X and Y:\n",
    "        X_ = self.add_input_noise(X, input_noise='zero')\n",
    "        Y_ = self.add_output_noise(Y, output_noise='zero')\n",
    "\n",
    "        self.fitting = True  # Put BNN LV in fit mode so that it stops adding columns to X.\n",
    "        super().fit(X=X_, Y=Y_, *args, **kwargs)\n",
    "        self.fitting = False  # Restore normal state.\n",
    "        return"
   ]
  },
  {
   "cell_type": "markdown",
   "metadata": {
    "id": "2UMsthhAgjAr"
   },
   "source": [
    "# Heteroskedastic Noise"
   ]
  },
  {
   "cell_type": "code",
   "execution_count": 16,
   "metadata": {
    "id": "AP-gjOkAeG03"
   },
   "outputs": [],
   "source": [
    "y_hsc, X_hsc = generate_regression_outputs(type='hsc')"
   ]
  },
  {
   "cell_type": "code",
   "execution_count": 17,
   "metadata": {
    "colab": {
     "base_uri": "https://localhost:8080/"
    },
    "executionInfo": {
     "elapsed": 6884,
     "status": "ok",
     "timestamp": 1607803180134,
     "user": {
      "displayName": "Gabriel Pestre",
      "photoUrl": "https://lh3.googleusercontent.com/a-/AOh14GiE3b4p_EIBDdrmgHxkG3ah-_ubWSRfuskKMdaE=s64",
      "userId": "17117164839647084315"
     },
     "user_tz": 300
    },
    "id": "Dr07un6oeJWW",
    "outputId": "0d59b9e9-d436-440f-c17e-fbeda795a7a9"
   },
   "outputs": [
    {
     "name": "stdout",
     "output_type": "stream",
     "text": [
      "Iteration 0 lower bound 830.7720418664411; gradient mag: 3027.7862230010514\n",
      "Iteration 500 lower bound 3.4968032740529846; gradient mag: 0.28603844196944644\n",
      "Iteration 1000 lower bound 3.435797110257811; gradient mag: 0.3212303132069177\n",
      "Iteration 1500 lower bound 3.3977157105996763; gradient mag: 7.9573543146554915\n",
      "Iteration 2000 lower bound 3.3646174817081254; gradient mag: 6.676509636822481\n",
      "Iteration 2500 lower bound 3.3513498668469466; gradient mag: 6.368896225070822\n",
      "Iteration 3000 lower bound 3.3388595248726425; gradient mag: 3.6183217068257116\n",
      "Iteration 3500 lower bound 3.3380750000047503; gradient mag: 5.747355714874942\n",
      "Iteration 4000 lower bound 3.3460625531049955; gradient mag: 11.8995465194356\n",
      "Iteration 4500 lower bound 3.333582614195446; gradient mag: 5.812873884835474\n"
     ]
    }
   ],
   "source": [
    "# Parameters\n",
    "gamma = 1\n",
    "sigma = 1\n",
    "\n",
    "architecture = {'input_n':1, \n",
    "             'output_n':1, \n",
    "             'hidden_layers':[20,20],\n",
    "             'biases' : [1,1,1],\n",
    "             'activations' : ['relu', 'relu', 'linear'],\n",
    "             'gamma':[gamma],\n",
    "             'sigma':[sigma]}\n",
    "bnn_lv = BNN_LV(architecture=architecture)\n",
    "\n",
    "bnn_lv.fit(X_hsc, y_hsc, step_size=0.01, max_iteration=5000, check_point=500, regularization_coef=None)"
   ]
  },
  {
   "cell_type": "code",
   "execution_count": 18,
   "metadata": {
    "colab": {
     "base_uri": "https://localhost:8080/",
     "height": 265
    },
    "executionInfo": {
     "elapsed": 532,
     "status": "ok",
     "timestamp": 1607803188601,
     "user": {
      "displayName": "Gabriel Pestre",
      "photoUrl": "https://lh3.googleusercontent.com/a-/AOh14GiE3b4p_EIBDdrmgHxkG3ah-_ubWSRfuskKMdaE=s64",
      "userId": "17117164839647084315"
     },
     "user_tz": 300
    },
    "id": "NzgTjre2-6Te",
    "outputId": "35238423-aec6-43f3-db8f-72aa1d57ea7a"
   },
   "outputs": [
    {
     "data": {
      "image/png": "[encoded data removed]",
      "text/plain": [
       "<Figure size 432x288 with 1 Axes>"
      ]
     },
     "metadata": {
      "needs_background": "light"
     },
     "output_type": "display_data"
    }
   ],
   "source": [
    "x_test = np.linspace(min(X_hsc), max(X_hsc), 100).reshape((1, -1))\n",
    "\n",
    "#predict on the test x-values\n",
    "y_test_pred = bnn_lv.forward(x_test.reshape(100,1))\n",
    "\n",
    "#visualize the function learned by the neural network\n",
    "plt.scatter(X_hsc.flatten(), y_hsc.flatten(), color='black', label='data')\n",
    "plt.plot(x_test.flatten(), y_test_pred.flatten(), color='red', label='learned neural network function')\n",
    "plt.legend(loc='best')\n",
    "plt.show()"
   ]
  },
  {
   "cell_type": "code",
   "execution_count": 22,
   "metadata": {
    "executionInfo": {
     "elapsed": 432,
     "status": "ok",
     "timestamp": 1607806115933,
     "user": {
      "displayName": "Gabriel Pestre",
      "photoUrl": "https://lh3.googleusercontent.com/a-/AOh14GiE3b4p_EIBDdrmgHxkG3ah-_ubWSRfuskKMdaE=s64",
      "userId": "17117164839647084315"
     },
     "user_tz": 300
    },
    "id": "NNkuZWtWXxLS"
   },
   "outputs": [],
   "source": [
    "def plot95ci(nn, X, trace_w):\n",
    "    # Make predicitons:\n",
    "    X = np.array(X).flatten().reshape(-1,1)\n",
    "    N = X.shape[0]  # Number of data points.\n",
    "    S = trace_w.shape[0]  # Number of models.\n",
    "    D = trace_w.shape[-1]  # Number of weights.\n",
    "    W = trace_w.reshape(S,D)  # Weights of S models.\n",
    "    y_preds = nn.forward(X, W).reshape(S,N)  # Preds for S models.\n",
    "    # Calculate percentiles\n",
    "    y_lower = np.percentile(y_preds, q=2.5, axis=0).flatten()\n",
    "    y_upper = np.percentile(y_preds, q=97.5, axis=0).flatten()\n",
    "    y_med = np.percentile(y_preds, q=50, axis=0).flatten()\n",
    "    x_vals = X.flatten()\n",
    "    # Plot with confidence\n",
    "    fig, ax = plt.subplots(1,1,figsize=(14,7))\n",
    "    data = pd.DataFrame({'x_vals':x_vals,'y_lower':y_lower,'y_med':y_med,'y_upper':y_upper})\n",
    "    ax.plot('x_vals', 'y_upper', data=data, label=\"Upper 95%\", color='grey')\n",
    "    ax.plot('x_vals', 'y_med', data=data, label=\"Median Prediction\", color='black')\n",
    "    ax.plot('x_vals', 'y_lower', data=data, label=\"Lower 95%\", color='grey')\n",
    "    #ax.fill_between('x_vals', 'y_lower', 'y_upper', data=data, alpha=0.4, color='r', label=\"95% Predictive Interval\")\n",
    "    ax.set_title(\"Bayesian Neural Net Predictions with 95% CI\")\n",
    "    ax.set_xlabel(\"X Test\")\n",
    "    ax.set_ylabel(\"Y Predicted\")\n",
    "    #ax.legend()\n",
    "    # plt.ylim([-8,4])\n",
    "    # plt.show()\n",
    "    return fig, ax\n",
    "\n",
    "def wb_scatter(nn, X, trace_w):\n",
    "    X = np.array(X).flatten().reshape(-1,1)\n",
    "    S = trace_w.shape[0]\n",
    "    D = trace_w.shape[-1]\n",
    "    W = trace_w.reshape(S,D)\n",
    "    y_pred = nn.forward(X, W)\n",
    "    x_vals = np.tile(X, reps=(S,1,1))\n",
    "    assert y_pred.shape == x_vals.shape\n",
    "    x_vals = x_vals.flatten()\n",
    "    y_pred = y_pred.flatten()\n",
    "    # Build W&B table and plot:\n",
    "    data = [[x, y] for (x, y) in zip(x_vals.flatten(), y_pred.flatten())]\n",
    "    table = wandb.Table(data=data, columns = [\"x_test\", \"y_pred\"])\n",
    "    plot = wandb.plot.scatter(table, \"x_test\", \"y_pred\")\n",
    "    wandb.log({\"post_pred_scatter\" : plot})\n",
    "    print(f\"Callback: Built plot with {S} samples.\")\n",
    "\n",
    "def build_wb_callback(nn, X, iters_log=25, iters_plot=250):\n",
    "    it = 0\n",
    "    X = np.array(X).flatten().reshape(-1,1)\n",
    "    def wb_callback(trace, draw):\n",
    "        # Get iteration:\n",
    "        nonlocal it\n",
    "        it = it + 1\n",
    "        if it % iters_log == 0:\n",
    "            # Log iteration:\n",
    "            #wandb.log({'iteration' : it}, step=it)\n",
    "            # Log stats:\n",
    "            wandb.log(draw.stats[-1], step=it)\n",
    "        if it % iters_plot == 0:\n",
    "            # Make plot (optional):\n",
    "            trace_w = trace.get_values('w')\n",
    "            fig, ax = plot95ci(nn, X, trace_w)\n",
    "            wandb.log({\"post_pred_95ci\": fig}, step=it)\n",
    "        return\n",
    "    return wb_callback\n"
   ]
  },
  {
   "cell_type": "code",
   "execution_count": 24,
   "metadata": {
    "colab": {
     "base_uri": "https://localhost:8080/",
     "height": 1000,
     "referenced_widgets": [
      "1cb0f152b809412ea9bf42bd8f1e14ce",
      "43afe21f8db34524bfcf6b7b71959261",
      "cbd0cd01dda041d59118207c147d7c3e",
      "bb3cef85ce4646bdb447b2e5ce658ee4",
      "d80e51a421b4407095e95ba1a30d0ec0",
      "48f8a78b6f0844e5ac0d21f27a9f3c35",
      "96a893ffeb724966a493525a122ef265",
      "44a0a1426da14a919bb7c8169c37aef5"
     ]
    },
    "executionInfo": {
     "elapsed": 9894,
     "status": "ok",
     "timestamp": 1607806253813,
     "user": {
      "displayName": "Gabriel Pestre",
      "photoUrl": "https://lh3.googleusercontent.com/a-/AOh14GiE3b4p_EIBDdrmgHxkG3ah-_ubWSRfuskKMdaE=s64",
      "userId": "17117164839647084315"
     },
     "user_tz": 300
    },
    "id": "4MWtjahSfuVq",
    "outputId": "346fc68c-cfee-4cd8-cfae-36ef79cc7016",
    "scrolled": false
   },
   "outputs": [
    {
     "data": {
      "text/html": [
       "Finishing last run (ID:3r76pd5o) before initializing another..."
      ],
      "text/plain": [
       "<IPython.core.display.HTML object>"
      ]
     },
     "metadata": {},
     "output_type": "display_data"
    },
    {
     "data": {
      "text/html": [
       "<br/>Waiting for W&B process to finish, PID 78121<br/>Program ended successfully."
      ],
      "text/plain": [
       "<IPython.core.display.HTML object>"
      ]
     },
     "metadata": {},
     "output_type": "display_data"
    },
    {
     "data": {
      "application/vnd.jupyter.widget-view+json": {
       "model_id": "",
       "version_major": 2,
       "version_minor": 0
      },
      "text/plain": [
       "VBox(children=(Label(value=' 0.29MB of 0.29MB uploaded (0.00MB deduped)\\r'), FloatProgress(value=1.0, max=1.0)…"
      ]
     },
     "metadata": {},
     "output_type": "display_data"
    },
    {
     "data": {
      "text/html": [
       "Find user logs for this run at: <code>/Users/nikhilvanderklaauw/Documents/Fall2020/AM207/FinalProject/decomposition-of-uncertainty/notebooks/pymc3/wandb/run-20201212_165945-3r76pd5o/logs/debug.log</code>"
      ],
      "text/plain": [
       "<IPython.core.display.HTML object>"
      ]
     },
     "metadata": {},
     "output_type": "display_data"
    },
    {
     "data": {
      "text/html": [
       "Find internal logs for this run at: <code>/Users/nikhilvanderklaauw/Documents/Fall2020/AM207/FinalProject/decomposition-of-uncertainty/notebooks/pymc3/wandb/run-20201212_165945-3r76pd5o/logs/debug-internal.log</code>"
      ],
      "text/plain": [
       "<IPython.core.display.HTML object>"
      ]
     },
     "metadata": {},
     "output_type": "display_data"
    },
    {
     "data": {
      "text/html": [
       "<h3>Run summary:</h3><br/><style>\n",
       "    table.wandb td:nth-child(1) { padding: 0 10px; text-align: right }\n",
       "    </style><table class=\"wandb\">\n",
       "<tr><td>tune</td><td>True</td></tr><tr><td>diverging</td><td>False</td></tr><tr><td>perf_counter_diff</td><td>54.05161</td></tr><tr><td>process_time_diff</td><td>93.17458</td></tr><tr><td>perf_counter_start</td><td>489.35498</td></tr><tr><td>depth</td><td>15</td></tr><tr><td>mean_tree_accept</td><td>0.58991</td></tr><tr><td>energy_error</td><td>0.83994</td></tr><tr><td>energy</td><td>2657.77573</td></tr><tr><td>tree_size</td><td>32767</td></tr><tr><td>max_energy_error</td><td>2.25119</td></tr><tr><td>model_logp</td><td>-2128.77869</td></tr><tr><td>step_size</td><td>0.00024</td></tr><tr><td>step_size_bar</td><td>0.00097</td></tr><tr><td>_step</td><td>825</td></tr><tr><td>_runtime</td><td>731</td></tr><tr><td>_timestamp</td><td>1607811119</td></tr></table>"
      ],
      "text/plain": [
       "<IPython.core.display.HTML object>"
      ]
     },
     "metadata": {},
     "output_type": "display_data"
    },
    {
     "data": {
      "text/html": [
       "<h3>Run history:</h3><br/><style>\n",
       "    table.wandb td:nth-child(1) { padding: 0 10px; text-align: right }\n",
       "    </style><table class=\"wandb\">\n",
       "<tr><td>tune</td><td>▁▁▁▁▁▁▁▁▁▁▁▁▁▁▁▁▁▁▁▁▁▁▁▁▁▁▁▁▁▁▁▁▁</td></tr><tr><td>diverging</td><td>█▁▁▁▁▁▁▁▁▁▁▁▁▁▁▁▁▁▁▁▁▁▁▁▁▁▁▁▁▁▁▁▁</td></tr><tr><td>perf_counter_diff</td><td>▁▁▁▁▁▁▁▁▁▁▁▁▁▁▁▁▁▁▁▁▁▁▁▁▁▁▁▁▁▁▁▁█</td></tr><tr><td>process_time_diff</td><td>▁▁▁▁▁▁▁▁▁▁▁▁▁▁▁▁▁▁▁▁▁▁▁▁▁▁▁▁▁▁▁▁█</td></tr><tr><td>perf_counter_start</td><td>▁▁▁▁▁▁▁▁▁▁▂▂▂▂▂▂▂▂▂▂▂▂▂▂▃▃▃▃▃▃▄▄█</td></tr><tr><td>depth</td><td>▁▅▅▅▅▅▅▅▅▅▅▅▅▅▅▅▅▅▅▅▅▅▅▅▅▅▅▅▅▅▅▅█</td></tr><tr><td>mean_tree_accept</td><td>▁█▇█▇██▆▇█▇██▇▇▇██▇████▇▇██▇█▇▇█▅</td></tr><tr><td>energy_error</td><td>▃▄▄▃▄▃▃▅▄▃▅▃▃▂▃▃▂▂▃▃▃▃▁▄▄▃▃▅▁▅▅▁█</td></tr><tr><td>energy</td><td>█▁▁▁▁▁▂▁▁▁▁▁▂▁▁▁▁▁▁▁▁▁▁▁▁▁▁▁▁▁▁▁▁</td></tr><tr><td>tree_size</td><td>▁▁▁▁▁▁▁▁▁▁▁▁▁▁▁▁▁▁▁▁▁▁▁▁▁▁▁▁▁▁▁▁█</td></tr><tr><td>max_energy_error</td><td>█▁▁▁▁▁▁▁▁▁▁▁▁▁▁▁▁▁▁▁▁▁▁▁▁▁▁▁▁▁▁▁▁</td></tr><tr><td>model_logp</td><td>▁█████▇█████▇████████████████████</td></tr><tr><td>step_size</td><td>█▁▁▁▁▁▁▁▁▁▁▁▁▁▃▁▄▁▃▁▃▃▃▃▃▁▂▄▄▃▃▃▁</td></tr><tr><td>step_size_bar</td><td>█▁▁▁▁▁▁▁▁▁▁▁▁▁▁▁▁▁▁▁▁▁▁▁▁▁▁▁▁▂▁▁▁</td></tr><tr><td>_step</td><td>▁▁▁▂▂▂▂▃▃▃▃▃▄▄▄▄▅▅▅▅▅▆▆▆▆▆▇▇▇▇███</td></tr><tr><td>_runtime</td><td>▁▁▁▁▁▁▁▁▁▁▁▁▁▁▁▁▁▁▁▁▂▂▂▂▂▂▂▂▂▂▂▅█</td></tr><tr><td>_timestamp</td><td>▁▁▁▁▁▁▁▁▁▁▁▁▁▁▁▁▁▁▁▁▂▂▂▂▂▂▂▂▂▂▂▅█</td></tr></table><br/>"
      ],
      "text/plain": [
       "<IPython.core.display.HTML object>"
      ]
     },
     "metadata": {},
     "output_type": "display_data"
    },
    {
     "data": {
      "text/html": [
       "Synced 5 W&B file(s), 3 media file(s), 0 artifact file(s) and 0 other file(s)"
      ],
      "text/plain": [
       "<IPython.core.display.HTML object>"
      ]
     },
     "metadata": {},
     "output_type": "display_data"
    },
    {
     "data": {
      "text/html": [
       "\n",
       "                    <br/>Synced <strong style=\"color:#cdcd00\">first_hsc_attempt</strong>: <a href=\"https://wandb.ai/gpestre/am207/runs/3r76pd5o\" target=\"_blank\">https://wandb.ai/gpestre/am207/runs/3r76pd5o</a><br/>\n",
       "                "
      ],
      "text/plain": [
       "<IPython.core.display.HTML object>"
      ]
     },
     "metadata": {},
     "output_type": "display_data"
    },
    {
     "data": {
      "text/html": [
       "...Successfully finished last run (ID:3r76pd5o). Initializing new run:<br/><br/>"
      ],
      "text/plain": [
       "<IPython.core.display.HTML object>"
      ]
     },
     "metadata": {},
     "output_type": "display_data"
    },
    {
     "data": {
      "text/html": [
       "\n",
       "                Tracking run with wandb version 0.10.12<br/>\n",
       "                Syncing run <strong style=\"color:#cdcd00\">first_hsc_attempt</strong> to <a href=\"https://wandb.ai\" target=\"_blank\">Weights & Biases</a> <a href=\"https://docs.wandb.com/integrations/jupyter.html\" target=\"_blank\">(Documentation)</a>.<br/>\n",
       "                Project page: <a href=\"https://wandb.ai/gpestre/am207\" target=\"_blank\">https://wandb.ai/gpestre/am207</a><br/>\n",
       "                Run page: <a href=\"https://wandb.ai/gpestre/am207/runs/iwapopuj\" target=\"_blank\">https://wandb.ai/gpestre/am207/runs/iwapopuj</a><br/>\n",
       "                Run data is saved locally in <code>/Users/nikhilvanderklaauw/Documents/Fall2020/AM207/FinalProject/decomposition-of-uncertainty/notebooks/pymc3/wandb/run-20201212_171159-iwapopuj</code><br/><br/>\n",
       "            "
      ],
      "text/plain": [
       "<IPython.core.display.HTML object>"
      ]
     },
     "metadata": {},
     "output_type": "display_data"
    },
    {
     "name": "stderr",
     "output_type": "stream",
     "text": [
      "/Users/nikhilvanderklaauw/opt/anaconda3/envs/datasci/lib/python3.7/site-packages/pymc3/sampling.py:468: FutureWarning:\n",
      "\n",
      "In an upcoming release, pm.sample will return an `arviz.InferenceData` object instead of a `MultiTrace` by default. You can pass return_inferencedata=True or return_inferencedata=False to be safe and silence this warning.\n",
      "\n",
      "Auto-assigning NUTS sampler...\n",
      "Initializing NUTS using jitter+adapt_diag...\n",
      "Multiprocess sampling (4 chains in 4 jobs)\n",
      "NUTS: [w]\n"
     ]
    },
    {
     "data": {
      "text/html": [
       "\n",
       "    <div>\n",
       "        <style>\n",
       "            /* Turns off some styling */\n",
       "            progress {\n",
       "                /* gets rid of default border in Firefox and Opera. */\n",
       "                border: none;\n",
       "                /* Needs to be in here for Safari polyfill so background images work as expected. */\n",
       "                background-size: auto;\n",
       "            }\n",
       "            .progress-bar-interrupted, .progress-bar-interrupted::-webkit-progress-bar {\n",
       "                background: #F44336;\n",
       "            }\n",
       "        </style>\n",
       "      <progress value='14000' class='' max='14000' style='width:300px; height:20px; vertical-align: middle;'></progress>\n",
       "      100.00% [14000/14000 1:25:36<00:00 Sampling 4 chains, 0 divergences]\n",
       "    </div>\n",
       "    "
      ],
      "text/plain": [
       "<IPython.core.display.HTML object>"
      ]
     },
     "metadata": {},
     "output_type": "display_data"
    },
    {
     "name": "stderr",
     "output_type": "stream",
     "text": [
      "Sampling 4 chains for 2_000 tune and 1_500 draw iterations (8_000 + 6_000 draws total) took 5157 seconds.\n",
      "WARNING (theano.gof.compilelock): Overriding existing lock by dead process '79541' (I am process '77752')\n",
      "The acceptance probability does not match the target. It is 0.9786898983230963, but should be close to 0.9. Try to increase the number of tuning steps.\n",
      "The chain reached the maximum tree depth. Increase max_treedepth, increase target_accept or reparameterize.\n",
      "The acceptance probability does not match the target. It is 0.7841081020498158, but should be close to 0.9. Try to increase the number of tuning steps.\n",
      "The chain reached the maximum tree depth. Increase max_treedepth, increase target_accept or reparameterize.\n",
      "The chain reached the maximum tree depth. Increase max_treedepth, increase target_accept or reparameterize.\n",
      "The acceptance probability does not match the target. It is 0.7960235853823615, but should be close to 0.9. Try to increase the number of tuning steps.\n",
      "The chain reached the maximum tree depth. Increase max_treedepth, increase target_accept or reparameterize.\n",
      "The rhat statistic is larger than 1.4 for some parameters. The sampler did not converge.\n",
      "The estimated number of effective samples is smaller than 200 for some parameters.\n",
      "WARNING:root:Truncating wandb.Table object to 10000 rows.\n"
     ]
    },
    {
     "name": "stdout",
     "output_type": "stream",
     "text": [
      "Callback: Built plot with 6000 samples.\n"
     ]
    },
    {
     "data": {
      "text/html": [
       "<br/>Waiting for W&B process to finish, PID 78469<br/>Program ended successfully."
      ],
      "text/plain": [
       "<IPython.core.display.HTML object>"
      ]
     },
     "metadata": {},
     "output_type": "display_data"
    },
    {
     "data": {
      "application/vnd.jupyter.widget-view+json": {
       "model_id": "",
       "version_major": 2,
       "version_minor": 0
      },
      "text/plain": [
       "VBox(children=(Label(value=' 9.61MB of 28.64MB uploaded (0.00MB deduped)\\r'), FloatProgress(value=0.3354433372…"
      ]
     },
     "metadata": {},
     "output_type": "display_data"
    },
    {
     "data": {
      "text/html": [
       "Find user logs for this run at: <code>/Users/nikhilvanderklaauw/Documents/Fall2020/AM207/FinalProject/decomposition-of-uncertainty/notebooks/pymc3/wandb/run-20201212_171159-iwapopuj/logs/debug.log</code>"
      ],
      "text/plain": [
       "<IPython.core.display.HTML object>"
      ]
     },
     "metadata": {},
     "output_type": "display_data"
    },
    {
     "data": {
      "text/html": [
       "Find internal logs for this run at: <code>/Users/nikhilvanderklaauw/Documents/Fall2020/AM207/FinalProject/decomposition-of-uncertainty/notebooks/pymc3/wandb/run-20201212_171159-iwapopuj/logs/debug-internal.log</code>"
      ],
      "text/plain": [
       "<IPython.core.display.HTML object>"
      ]
     },
     "metadata": {},
     "output_type": "display_data"
    },
    {
     "data": {
      "text/html": [
       "<h3>Run summary:</h3><br/><style>\n",
       "    table.wandb td:nth-child(1) { padding: 0 10px; text-align: right }\n",
       "    </style><table class=\"wandb\">\n",
       "<tr><td>tune</td><td>False</td></tr><tr><td>diverging</td><td>False</td></tr><tr><td>perf_counter_diff</td><td>0.36316</td></tr><tr><td>process_time_diff</td><td>1.44997</td></tr><tr><td>perf_counter_start</td><td>6055.24624</td></tr><tr><td>depth</td><td>10</td></tr><tr><td>mean_tree_accept</td><td>0.70011</td></tr><tr><td>energy_error</td><td>1.05004</td></tr><tr><td>energy</td><td>17631.55532</td></tr><tr><td>tree_size</td><td>1023</td></tr><tr><td>max_energy_error</td><td>17.99131</td></tr><tr><td>model_logp</td><td>-17411.2921</td></tr><tr><td>step_size</td><td>0.00029</td></tr><tr><td>step_size_bar</td><td>0.00049</td></tr><tr><td>_step</td><td>14000</td></tr><tr><td>_runtime</td><td>5172</td></tr><tr><td>_timestamp</td><td>1607816294</td></tr></table>"
      ],
      "text/plain": [
       "<IPython.core.display.HTML object>"
      ]
     },
     "metadata": {},
     "output_type": "display_data"
    },
    {
     "data": {
      "text/html": [
       "<h3>Run history:</h3><br/><style>\n",
       "    table.wandb td:nth-child(1) { padding: 0 10px; text-align: right }\n",
       "    </style><table class=\"wandb\">\n",
       "<tr><td>tune</td><td>███████████████████████▁▁▁▁▁▁▁▁▁▁▁▁▁▁▁▁▁</td></tr><tr><td>diverging</td><td>▁▁▁▁▁▁▁▁▁▁▁▁▁▁▁▁▁▁▁▁▁▁▁▁▁▁▁▁▁▁▁▁▁▁▁▁▁▁▁▁</td></tr><tr><td>perf_counter_diff</td><td>▁▁▅▅▅▅▅▆▅▅▆▅▅▆█▆▅▅▅▅▅▅▅▅▅▆▆▆▆▇▇▅▆▆▆▇▆▅▆▂</td></tr><tr><td>process_time_diff</td><td>▁▁▆▆▇▆▆▇▆▆▇▆▆▇█▇▆▆▆▆▆▆▆▆▆▇▇▇▇▇▇▆█▇▇█▇▇▇▃</td></tr><tr><td>perf_counter_start</td><td>▁▁▁▁▁▂▂▂▂▂▂▃▃▃▃▃▄▄▄▄▄▄▅▅▅▅▅▅▆▆▆▆▇▇▇▇▇███</td></tr><tr><td>depth</td><td>▁▁██████████████████████████████████████</td></tr><tr><td>mean_tree_accept</td><td>▆▅▇▅█▆▂▇█▆▇▅█▄▆█▇▇▇█▅▆▇▅█▇█▁▆█▂▇▇▇█▆█▂▇▂</td></tr><tr><td>energy_error</td><td>▃▅▄▆▄▅▇▃▄▅▃▆▄▄▅▃▃▄▅▄▄▁▅▄▄▄▄█▅▄▇▅▅▅▁▅▄▁▄█</td></tr><tr><td>energy</td><td>█▇▇▅▅▅▆▅▃▃▄▃▃▃▂▂▂▄▂▂▃▂▂▂▂▂▂▂▂▂▃▂▃▂▁▂▂▁▁▁</td></tr><tr><td>tree_size</td><td>▁▁██████████████████████████████████████</td></tr><tr><td>max_energy_error</td><td>▁▁▁▂▁▁▂▁▁▁▁▁▁▃▁▁▁▁▁▁▁▁▁▂▁▁▁▂▁▁▂▁▁▁▁▁▁█▂▆</td></tr><tr><td>model_logp</td><td>▁▂▂▄▄▅▃▄▆▆▅▆▆▇▇▇▇▅▇▇▆▇▇▇▇▇▇▇▇▇▆▇▆▇█▇▇███</td></tr><tr><td>step_size</td><td>▁▁▂▁▁▂▂▂▂▁▂▁▁█▂▂▂▂▁▁▂▂▃▁▁▃▃▁▃▃▂▃▂▃▁▃▃▁▁▁</td></tr><tr><td>step_size_bar</td><td>▃▆▇█▆▆▆█▇▆▇▃▁▃▅▅▆▇▆▅▇█▆▇▇▇▇▇▇▇▇▇▇▇▇▇▇▇▇▇</td></tr><tr><td>_step</td><td>▁▁▁▂▂▂▂▂▂▃▃▃▃▃▃▄▄▄▄▄▅▅▅▅▅▅▆▆▆▆▆▆▇▇▇▇▇███</td></tr><tr><td>_runtime</td><td>▁▁▁▁▁▂▂▂▂▂▂▃▃▃▃▃▄▄▄▄▄▄▅▅▅▅▅▅▆▆▆▆▇▇▇▇▇███</td></tr><tr><td>_timestamp</td><td>▁▁▁▁▁▂▂▂▂▂▂▃▃▃▃▃▄▄▄▄▄▄▅▅▅▅▅▅▆▆▆▆▇▇▇▇▇███</td></tr></table><br/>"
      ],
      "text/plain": [
       "<IPython.core.display.HTML object>"
      ]
     },
     "metadata": {},
     "output_type": "display_data"
    },
    {
     "data": {
      "text/html": [
       "Synced 5 W&B file(s), 57 media file(s), 0 artifact file(s) and 1 other file(s)"
      ],
      "text/plain": [
       "<IPython.core.display.HTML object>"
      ]
     },
     "metadata": {},
     "output_type": "display_data"
    },
    {
     "data": {
      "text/html": [
       "\n",
       "                    <br/>Synced <strong style=\"color:#cdcd00\">first_hsc_attempt</strong>: <a href=\"https://wandb.ai/gpestre/am207/runs/iwapopuj\" target=\"_blank\">https://wandb.ai/gpestre/am207/runs/iwapopuj</a><br/>\n",
       "                "
      ],
      "text/plain": [
       "<IPython.core.display.HTML object>"
      ]
     },
     "metadata": {},
     "output_type": "display_data"
    }
   ],
   "source": [
    "# %debug\n",
    "\n",
    "p_mu = 0\n",
    "p_sigma = 5\n",
    "l_sigma = 0.25\n",
    "lv_gamma = 1\n",
    "\n",
    "my_tune = 2000\n",
    "my_draws = 1500\n",
    "my_target_accept = 0.90\n",
    "my_max_treedepth = None\n",
    "\n",
    "\n",
    "nn = bnn_lv\n",
    "# X_test = np.linspace(-6,6,100)\n",
    "X_test = np.linspace(min(X_hsc), max(X_hsc), 100).reshape((1, -1))\n",
    "\n",
    "# Initialize a W&B run:\n",
    "wandb.init(\n",
    "    entity    = 'gpestre',  # Don't change this.\n",
    "    project   = 'am207',  # Don't change this.\n",
    "    group     = 'pymc3_hsc',\n",
    "    name      = 'first_hsc_attempt',\n",
    "    notes     = 'Initial test with init weights',\n",
    "    config    = {\n",
    "        # Manually archive info about network and priors.\n",
    "        'architecture' : architecture,\n",
    "        'p_mu' : p_mu,\n",
    "        'p_sigma' : p_sigma,\n",
    "        'l_sigma' : l_sigma,\n",
    "        'lv_gamma' : lv_gamma,\n",
    "        'tune' : my_tune,\n",
    "        'draws' : my_draws,\n",
    "    },\n",
    ")\n",
    "\n",
    "wb_callback = build_wb_callback(nn=bnn_lv, X=X_hsc, iters_log=50, iters_plot=250)\n",
    "\n",
    "#################################################################################\n",
    "with pm.Model() as pm_model:\n",
    "    \n",
    "    w_prior = pm.Normal('w', mu=p_mu, sigma=p_sigma, shape=bnn_lv.weights.shape)  \n",
    "#     lv_prior = pm.Normal('z', mu=0, sigma=lv_gamma, shape=(X_hsc.shape[0],1))\n",
    "        \n",
    "#     y = pm.Normal('y', mu=bnn_lv.forward(X=X_hsc, input_noise = lv_prior, weights=w_prior),\n",
    "#                   sigma = l_sigma, observed=y_hsc)\n",
    "#     trace = pm.sample(tune=my_tune, draws=my_draws, start = {'w': bnn_lv.weights}, target_accept=my_target_accept,\n",
    "#                       max_treedepth = my_max_treedepth, callback=wb_callback)\n",
    "    \n",
    "    y = pm.Normal('y', mu=bnn_lv.forward(X=X_hsc, weights=w_prior),\n",
    "                  sigma = l_sigma, observed=y_hsc)\n",
    "    \n",
    "    trace = pm.sample(tune=my_tune, draws=my_draws, start = {'w': bnn_lv.weights},\n",
    "                      target_accept=my_target_accept, callback=wb_callback)\n",
    "\n",
    "    \n",
    "    \n",
    "#################################################################################\n",
    "\n",
    "wb_filepath = f'temp_pymc3_trace_{wandb.run.id}.npy'\n",
    "np.save(wb_filepath, trace['w'])\n",
    "wandb.save(wb_filepath)\n",
    "\n",
    "wb_scatter(nn=nn, X=X_test, trace_w=trace['w'])\n",
    "\n",
    "wandb.finish()\n"
   ]
  },
  {
   "cell_type": "code",
   "execution_count": 41,
   "metadata": {
    "executionInfo": {
     "elapsed": 13677,
     "status": "ok",
     "timestamp": 1607805944823,
     "user": {
      "displayName": "Gabriel Pestre",
      "photoUrl": "https://lh3.googleusercontent.com/a-/AOh14GiE3b4p_EIBDdrmgHxkG3ah-_ubWSRfuskKMdaE=s64",
      "userId": "17117164839647084315"
     },
     "user_tz": 300
    },
    "id": "l1-ML9C5XfxP"
   },
   "outputs": [],
   "source": [
    "np.save('hsc_samples_pymc3.npy', trace['w'])"
   ]
  },
  {
   "cell_type": "code",
   "execution_count": 31,
   "metadata": {},
   "outputs": [
    {
     "data": {
      "image/png": "[encoded data removed]",
      "text/plain": [
       "<Figure size 1008x504 with 1 Axes>"
      ]
     },
     "metadata": {
      "needs_background": "light"
     },
     "output_type": "display_data"
    }
   ],
   "source": [
    "bayesian_lv_weights = trace['w']\n",
    "\n",
    "# Take 100 random posterior samples\n",
    "w_random_samples = bayesian_lv_weights[np.random.choice(bayesian_lv_weights.shape[0], 100), :]\n",
    "\n",
    "y_preds = []\n",
    "\n",
    "# Loop through the samples of weights\n",
    "for i in range(w_random_samples.shape[0]):\n",
    "    # Create the same NN for predictions but with weights from the samples\n",
    "    w_cur = w_random_samples[i,:]\n",
    "\n",
    "    mu_pred = bnn_lv.forward(x_test.reshape(-1,1), w_cur)\n",
    "    y_pred = mu_pred\n",
    "    y_preds.append(y_pred.reshape(-1))\n",
    "\n",
    "# Calculate percentiles\n",
    "y_lower = np.percentile(y_preds, q=2.5, axis=0)\n",
    "y_upper = np.percentile(y_preds, q=97.5, axis=0)\n",
    "y_med = np.percentile(y_preds, q=50, axis=0)\n",
    "\n",
    "# Plot with confidence\n",
    "plt.figure(figsize=(14,7))\n",
    "plt.scatter(X_hsc.flatten(), y_hsc.flatten(), color='black', label='data')\n",
    "plt.plot(x_test.flatten(), y_med, label=\"Median Prediction\")\n",
    "plt.fill_between(x_test.flatten(), y_lower, y_upper, alpha=0.4, color='r', label=\"95% Predictive Interval\")\n",
    "plt.title(\"Bayesian Neural Net Predictions with 95% CI\")\n",
    "plt.xlabel(\"X Test\")\n",
    "plt.ylabel(\"Y Predicted\")\n",
    "plt.legend()\n",
    "# plt.ylim([-8,4])\n",
    "plt.show()"
   ]
  },
  {
   "cell_type": "code",
   "execution_count": 37,
   "metadata": {},
   "outputs": [
    {
     "data": {
      "image/png": "[encoded data removed]",
      "text/plain": [
       "<Figure size 1008x504 with 1 Axes>"
      ]
     },
     "metadata": {
      "needs_background": "light"
     },
     "output_type": "display_data"
    }
   ],
   "source": [
    "# Using all samples\n",
    "w_random_samples = trace['w']\n",
    "\n",
    "y_preds = []\n",
    "\n",
    "# Loop through the samples of weights\n",
    "for i in range(w_random_samples.shape[0]):\n",
    "    # Create the same NN for predictions but with weights from the samples\n",
    "    w_cur = w_random_samples[i,:]\n",
    "\n",
    "    mu_pred = bnn_lv.forward(x_test.reshape(-1,1), w_cur)\n",
    "    y_pred = mu_pred\n",
    "    y_preds.append(y_pred.reshape(-1))\n",
    "\n",
    "# Calculate percentiles\n",
    "y_lower = np.percentile(y_preds, q=2.5, axis=0)\n",
    "y_upper = np.percentile(y_preds, q=97.5, axis=0)\n",
    "y_med = np.percentile(y_preds, q=50, axis=0)\n",
    "\n",
    "# Plot with confidence\n",
    "plt.figure(figsize=(14,7))\n",
    "plt.scatter(X_hsc.flatten(), y_hsc.flatten(), color='black', label='data')\n",
    "plt.plot(x_test.flatten(), y_med, label=\"Median Prediction\")\n",
    "plt.fill_between(x_test.flatten(), y_lower, y_upper, alpha=0.4, color='r', label=\"95% Predictive Interval\")\n",
    "plt.title(\"Bayesian Neural Net Predictions with 95% CI\")\n",
    "plt.xlabel(\"X Test\")\n",
    "plt.ylabel(\"Y Predicted\")\n",
    "plt.legend()\n",
    "# plt.ylim([-8,4])\n",
    "plt.show()"
   ]
  },
  {
   "cell_type": "code",
   "execution_count": null,
   "metadata": {},
   "outputs": [],
   "source": []
  }
 ],
 "metadata": {
  "colab": {
   "collapsed_sections": [
    "A1JTET-pne2b",
    "cxNDEzREFRfO"
   ],
   "name": "bnn_lv_updated.ipynb",
   "provenance": []
  },
  "kernelspec": {
   "display_name": "Python 3",
   "language": "python",
   "name": "python3"
  },
  "language_info": {
   "codemirror_mode": {
    "name": "ipython",
    "version": 3
   },
   "file_extension": ".py",
   "mimetype": "text/x-python",
   "name": "python",
   "nbconvert_exporter": "python",
   "pygments_lexer": "ipython3",
   "version": "3.7.8"
  },
  "widgets": {
   "application/vnd.jupyter.widget-state+json": {
    "1cb0f152b809412ea9bf42bd8f1e14ce": {
     "model_module": "@jupyter-widgets/controls",
     "model_name": "VBoxModel",
     "state": {
      "_dom_classes": [],
      "_model_module": "@jupyter-widgets/controls",
      "_model_module_version": "1.5.0",
      "_model_name": "VBoxModel",
      "_view_count": null,
      "_view_module": "@jupyter-widgets/controls",
      "_view_module_version": "1.5.0",
      "_view_name": "VBoxView",
      "box_style": "",
      "children": [
       "IPY_MODEL_cbd0cd01dda041d59118207c147d7c3e",
       "IPY_MODEL_bb3cef85ce4646bdb447b2e5ce658ee4"
      ],
      "layout": "IPY_MODEL_43afe21f8db34524bfcf6b7b71959261"
     }
    },
    "43afe21f8db34524bfcf6b7b71959261": {
     "model_module": "@jupyter-widgets/base",
     "model_name": "LayoutModel",
     "state": {
      "_model_module": "@jupyter-widgets/base",
      "_model_module_version": "1.2.0",
      "_model_name": "LayoutModel",
      "_view_count": null,
      "_view_module": "@jupyter-widgets/base",
      "_view_module_version": "1.2.0",
      "_view_name": "LayoutView",
      "align_content": null,
      "align_items": null,
      "align_self": null,
      "border": null,
      "bottom": null,
      "display": null,
      "flex": null,
      "flex_flow": null,
      "grid_area": null,
      "grid_auto_columns": null,
      "grid_auto_flow": null,
      "grid_auto_rows": null,
      "grid_column": null,
      "grid_gap": null,
      "grid_row": null,
      "grid_template_areas": null,
      "grid_template_columns": null,
      "grid_template_rows": null,
      "height": null,
      "justify_content": null,
      "justify_items": null,
      "left": null,
      "margin": null,
      "max_height": null,
      "max_width": null,
      "min_height": null,
      "min_width": null,
      "object_fit": null,
      "object_position": null,
      "order": null,
      "overflow": null,
      "overflow_x": null,
      "overflow_y": null,
      "padding": null,
      "right": null,
      "top": null,
      "visibility": null,
      "width": null
     }
    },
    "44a0a1426da14a919bb7c8169c37aef5": {
     "model_module": "@jupyter-widgets/base",
     "model_name": "LayoutModel",
     "state": {
      "_model_module": "@jupyter-widgets/base",
      "_model_module_version": "1.2.0",
      "_model_name": "LayoutModel",
      "_view_count": null,
      "_view_module": "@jupyter-widgets/base",
      "_view_module_version": "1.2.0",
      "_view_name": "LayoutView",
      "align_content": null,
      "align_items": null,
      "align_self": null,
      "border": null,
      "bottom": null,
      "display": null,
      "flex": null,
      "flex_flow": null,
      "grid_area": null,
      "grid_auto_columns": null,
      "grid_auto_flow": null,
      "grid_auto_rows": null,
      "grid_column": null,
      "grid_gap": null,
      "grid_row": null,
      "grid_template_areas": null,
      "grid_template_columns": null,
      "grid_template_rows": null,
      "height": null,
      "justify_content": null,
      "justify_items": null,
      "left": null,
      "margin": null,
      "max_height": null,
      "max_width": null,
      "min_height": null,
      "min_width": null,
      "object_fit": null,
      "object_position": null,
      "order": null,
      "overflow": null,
      "overflow_x": null,
      "overflow_y": null,
      "padding": null,
      "right": null,
      "top": null,
      "visibility": null,
      "width": null
     }
    },
    "48f8a78b6f0844e5ac0d21f27a9f3c35": {
     "model_module": "@jupyter-widgets/base",
     "model_name": "LayoutModel",
     "state": {
      "_model_module": "@jupyter-widgets/base",
      "_model_module_version": "1.2.0",
      "_model_name": "LayoutModel",
      "_view_count": null,
      "_view_module": "@jupyter-widgets/base",
      "_view_module_version": "1.2.0",
      "_view_name": "LayoutView",
      "align_content": null,
      "align_items": null,
      "align_self": null,
      "border": null,
      "bottom": null,
      "display": null,
      "flex": null,
      "flex_flow": null,
      "grid_area": null,
      "grid_auto_columns": null,
      "grid_auto_flow": null,
      "grid_auto_rows": null,
      "grid_column": null,
      "grid_gap": null,
      "grid_row": null,
      "grid_template_areas": null,
      "grid_template_columns": null,
      "grid_template_rows": null,
      "height": null,
      "justify_content": null,
      "justify_items": null,
      "left": null,
      "margin": null,
      "max_height": null,
      "max_width": null,
      "min_height": null,
      "min_width": null,
      "object_fit": null,
      "object_position": null,
      "order": null,
      "overflow": null,
      "overflow_x": null,
      "overflow_y": null,
      "padding": null,
      "right": null,
      "top": null,
      "visibility": null,
      "width": null
     }
    },
    "96a893ffeb724966a493525a122ef265": {
     "model_module": "@jupyter-widgets/controls",
     "model_name": "ProgressStyleModel",
     "state": {
      "_model_module": "@jupyter-widgets/controls",
      "_model_module_version": "1.5.0",
      "_model_name": "ProgressStyleModel",
      "_view_count": null,
      "_view_module": "@jupyter-widgets/base",
      "_view_module_version": "1.2.0",
      "_view_name": "StyleView",
      "bar_color": null,
      "description_width": ""
     }
    },
    "bb3cef85ce4646bdb447b2e5ce658ee4": {
     "model_module": "@jupyter-widgets/controls",
     "model_name": "FloatProgressModel",
     "state": {
      "_dom_classes": [],
      "_model_module": "@jupyter-widgets/controls",
      "_model_module_version": "1.5.0",
      "_model_name": "FloatProgressModel",
      "_view_count": null,
      "_view_module": "@jupyter-widgets/controls",
      "_view_module_version": "1.5.0",
      "_view_name": "ProgressView",
      "bar_style": "",
      "description": "",
      "description_tooltip": null,
      "layout": "IPY_MODEL_44a0a1426da14a919bb7c8169c37aef5",
      "max": 1,
      "min": 0,
      "orientation": "horizontal",
      "style": "IPY_MODEL_96a893ffeb724966a493525a122ef265",
      "value": 1
     }
    },
    "cbd0cd01dda041d59118207c147d7c3e": {
     "model_module": "@jupyter-widgets/controls",
     "model_name": "LabelModel",
     "state": {
      "_dom_classes": [],
      "_model_module": "@jupyter-widgets/controls",
      "_model_module_version": "1.5.0",
      "_model_name": "LabelModel",
      "_view_count": null,
      "_view_module": "@jupyter-widgets/controls",
      "_view_module_version": "1.5.0",
      "_view_name": "LabelView",
      "description": "",
      "description_tooltip": null,
      "layout": "IPY_MODEL_48f8a78b6f0844e5ac0d21f27a9f3c35",
      "placeholder": "​",
      "style": "IPY_MODEL_d80e51a421b4407095e95ba1a30d0ec0",
      "value": " 0.14MB of 0.14MB uploaded (0.00MB deduped)\r"
     }
    },
    "d80e51a421b4407095e95ba1a30d0ec0": {
     "model_module": "@jupyter-widgets/controls",
     "model_name": "DescriptionStyleModel",
     "state": {
      "_model_module": "@jupyter-widgets/controls",
      "_model_module_version": "1.5.0",
      "_model_name": "DescriptionStyleModel",
      "_view_count": null,
      "_view_module": "@jupyter-widgets/base",
      "_view_module_version": "1.2.0",
      "_view_name": "StyleView",
      "description_width": ""
     }
    }
   }
  }
 },
 "nbformat": 4,
 "nbformat_minor": 4
}
